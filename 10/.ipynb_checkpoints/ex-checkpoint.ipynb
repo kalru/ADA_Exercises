{
 "cells": [
  {
   "cell_type": "code",
   "execution_count": 1,
   "metadata": {},
   "outputs": [],
   "source": [
    "import tensorflow as tf\n",
    "from tensorflow import keras\n",
    "from tensorflow.keras import layers\n",
    "import numpy as np"
   ]
  },
  {
   "cell_type": "code",
   "execution_count": 2,
   "metadata": {},
   "outputs": [],
   "source": [
    "inputs = keras.Input(shape=(784,), name='digits')\n",
    "x = layers.Dense(64, activation='relu', name='dense_1')(inputs)\n",
    "x = layers.Dense(64, activation='relu', name='dense_2')(x)\n",
    "outputs = layers.Dense(10, activation='softmax', name='predictions')(x)\n",
    "\n",
    "model = keras.Model(inputs=inputs, outputs=outputs)"
   ]
  },
  {
   "cell_type": "code",
   "execution_count": 25,
   "metadata": {},
   "outputs": [
    {
     "name": "stdout",
     "output_type": "stream",
     "text": [
      "# Fit model on training data\n",
      "Train on 50000 samples, validate on 10000 samples\n",
      "Epoch 1/5\n",
      "50000/50000 [==============================] - 1s 29us/sample - loss: 0.2047 - sparse_categorical_accuracy: 0.9588 - val_loss: 0.3234 - val_sparse_categorical_accuracy: 0.9477\n",
      "Epoch 2/5\n",
      "50000/50000 [==============================] - 1s 25us/sample - loss: 0.1807 - sparse_categorical_accuracy: 0.9614 - val_loss: 0.3161 - val_sparse_categorical_accuracy: 0.9502\n",
      "Epoch 3/5\n",
      "50000/50000 [==============================] - 1s 23us/sample - loss: 0.1744 - sparse_categorical_accuracy: 0.9636 - val_loss: 0.2947 - val_sparse_categorical_accuracy: 0.9518\n",
      "Epoch 4/5\n",
      "50000/50000 [==============================] - 1s 26us/sample - loss: 0.1587 - sparse_categorical_accuracy: 0.9663 - val_loss: 0.2952 - val_sparse_categorical_accuracy: 0.9552\n",
      "Epoch 5/5\n",
      "50000/50000 [==============================] - 1s 24us/sample - loss: 0.1527 - sparse_categorical_accuracy: 0.9686 - val_loss: 0.3496 - val_sparse_categorical_accuracy: 0.9569\n",
      "\n",
      "history dict: {'loss': [0.20466852133855223, 0.18074519865199923, 0.17441724481571466, 0.1586535937102139, 0.15274634193425998], 'sparse_categorical_accuracy': [0.95876, 0.96138, 0.96358, 0.9663, 0.96858], 'val_loss': [0.32337528241872787, 0.3160724858492613, 0.29471376460194587, 0.29518060521185396, 0.3496242708951235], 'val_sparse_categorical_accuracy': [0.9477, 0.9502, 0.9518, 0.9552, 0.9569]}\n",
      "\n",
      "# Evaluate on test data\n",
      "10000/10000 [==============================] - 0s 8us/sample - loss: 0.3216 - sparse_categorical_accuracy: 0.9569\n",
      "test loss, test acc: [0.32164374680068575, 0.9569]\n",
      "\n",
      "# Generate predictions for 3 samples\n",
      "predictions shape: (3, 10)\n"
     ]
    }
   ],
   "source": [
    "(x_train, y_train), (x_test, y_test) = keras.datasets.mnist.load_data()\n",
    "\n",
    "x_val = x_train[:10000].reshape(10000,784)\n",
    "y_val = y_train[:10000]\n",
    "x_train = x_train[10000:].reshape(50000,784)\n",
    "y_train = y_train[10000:]\n",
    "x_test = x_test.reshape(10000,784)\n",
    "\n",
    "model.compile(optimizer=keras.optimizers.RMSprop(),\n",
    "              loss=keras.losses.SparseCategoricalCrossentropy(),\n",
    "              metrics=[keras.metrics.SparseCategoricalAccuracy()])\n",
    "\n",
    "print('# Fit model on training data')\n",
    "history = model.fit(x_train, y_train,\n",
    "                    batch_size=64,\n",
    "                    epochs=5,\n",
    "                    validation_data=(x_val, y_val))\n",
    "\n",
    "print('\\nhistory dict:', history.history)\n",
    "print('\\n# Evaluate on test data')\n",
    "results = model.evaluate(x_test, y_test, batch_size=128)\n",
    "print('test loss, test acc:', results)\n",
    "\n",
    "print('\\n# Generate predictions for 3 samples')\n",
    "predictions = model.predict(x_test[:3])\n",
    "print('predictions shape:', predictions.shape)"
   ]
  }
 ],
 "metadata": {
  "kernelspec": {
   "display_name": "Python 3",
   "language": "python",
   "name": "python3"
  },
  "language_info": {
   "codemirror_mode": {
    "name": "ipython",
    "version": 3
   },
   "file_extension": ".py",
   "mimetype": "text/x-python",
   "name": "python",
   "nbconvert_exporter": "python",
   "pygments_lexer": "ipython3",
   "version": "3.6.8"
  },
  "varInspector": {
   "cols": {
    "lenName": 16,
    "lenType": 16,
    "lenVar": 40
   },
   "kernels_config": {
    "python": {
     "delete_cmd_postfix": "",
     "delete_cmd_prefix": "del ",
     "library": "var_list.py",
     "varRefreshCmd": "print(var_dic_list())"
    },
    "r": {
     "delete_cmd_postfix": ") ",
     "delete_cmd_prefix": "rm(",
     "library": "var_list.r",
     "varRefreshCmd": "cat(var_dic_list()) "
    }
   },
   "types_to_exclude": [
    "module",
    "function",
    "builtin_function_or_method",
    "instance",
    "_Feature"
   ],
   "window_display": false
  }
 },
 "nbformat": 4,
 "nbformat_minor": 2
}
