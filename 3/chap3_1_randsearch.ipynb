{
 "cells": [
  {
   "cell_type": "markdown",
   "metadata": {},
   "source": [
    "### setup"
   ]
  },
  {
   "cell_type": "code",
   "execution_count": 1,
   "metadata": {},
   "outputs": [],
   "source": [
    "# Common imports\n",
    "import matplotlib.pyplot as plt\n",
    "import matplotlib as mpl\n",
    "import numpy as np\n",
    "import os\n",
    "\n",
    "# to make this notebook's output stable across runs\n",
    "np.random.seed(42)\n",
    "\n",
    "# To plot pretty figures\n",
    "%matplotlib inline\n",
    "mpl.rc('axes', labelsize=14)\n",
    "mpl.rc('xtick', labelsize=12)\n",
    "mpl.rc('ytick', labelsize=12)"
   ]
  },
  {
   "cell_type": "code",
   "execution_count": 2,
   "metadata": {},
   "outputs": [
    {
     "data": {
      "text/plain": [
       "(array([[ 0.,  0.,  0., ...,  0.,  0.,  0.],\n",
       "        [ 0.,  0.,  0., ...,  0.,  0.,  0.],\n",
       "        [ 0.,  0.,  0., ...,  0.,  0.,  0.],\n",
       "        ..., \n",
       "        [ 0.,  0.,  0., ...,  0.,  0.,  0.],\n",
       "        [ 0.,  0.,  0., ...,  0.,  0.,  0.],\n",
       "        [ 0.,  0.,  0., ...,  0.,  0.,  0.]]),\n",
       " array([0, 0, 0, ..., 9, 9, 9], dtype=int8))"
      ]
     },
     "execution_count": 2,
     "metadata": {},
     "output_type": "execute_result"
    }
   ],
   "source": [
    "def sort_by_target(mnist):\n",
    "    reorder_train = np.array(sorted([(target, i) for i, target in enumerate(mnist.target[:60000])]))[:, 1]\n",
    "    reorder_test = np.array(sorted([(target, i) for i, target in enumerate(mnist.target[60000:])]))[:, 1]\n",
    "    mnist.data[:60000] = mnist.data[reorder_train]\n",
    "    mnist.target[:60000] = mnist.target[reorder_train]\n",
    "    mnist.data[60000:] = mnist.data[reorder_test + 60000]\n",
    "    mnist.target[60000:] = mnist.target[reorder_test + 60000]\n",
    "    \n",
    "try:\n",
    "    from sklearn.datasets import fetch_openml\n",
    "    mnist = fetch_openml('mnist_784', version=1, cache=True)\n",
    "    mnist.target = mnist.target.astype(np.int8) # fetch_openml() returns targets as strings\n",
    "    sort_by_target(mnist) # fetch_openml() returns an unsorted dataset\n",
    "except ImportError:\n",
    "    from sklearn.datasets import fetch_mldata\n",
    "    mnist = fetch_mldata('MNIST original')\n",
    "mnist[\"data\"], mnist[\"target\"]"
   ]
  },
  {
   "cell_type": "markdown",
   "metadata": {},
   "source": [
    "### Exercises\n",
    "### 1."
   ]
  },
  {
   "cell_type": "code",
   "execution_count": 7,
   "metadata": {},
   "outputs": [],
   "source": [
    "X, y = mnist[\"data\"], mnist[\"target\"]\n",
    "X_train, X_test, y_train, y_test = X[:60000], X[60000:], y[:60000], y[60000:]\n",
    "\n",
    "shuffle_index = np.random.permutation(60000)#shuffle data\n",
    "X_train, y_train = X_train[shuffle_index], y_train[shuffle_index]"
   ]
  },
  {
   "cell_type": "code",
   "execution_count": null,
   "metadata": {
    "deletable": false,
    "editable": false,
    "run_control": {
     "frozen": true
    }
   },
   "outputs": [],
   "source": [
    "from sklearn.neighbors import KNeighborsClassifier\n",
    "from sklearn.model_selection import GridSearchCV\n",
    "\n",
    "knn_clf = KNeighborsClassifier(n_jobs=-1)\n",
    "k_range = list(range(1, 11))\n",
    "weight_options = ['uniform', 'distance']\n",
    "param_grid = dict(n_neighbors=k_range, weights=weight_options)\n",
    "\n",
    "grid = GridSearchCV(knn_clf, param_grid, cv=10, scoring='accuracy')\n",
    "grid.fit(X_train, y_train)\n",
    "#took too long"
   ]
  },
  {
   "cell_type": "code",
   "execution_count": 8,
   "metadata": {
    "code_folding": [],
    "scrolled": true
   },
   "outputs": [
    {
     "name": "stderr",
     "output_type": "stream",
     "text": [
      "C:\\Users\\Kalvyn\\Anaconda3\\envs\\ada_env\\lib\\site-packages\\sklearn\\model_selection\\_search.py:271: UserWarning: The total space of parameters 6 is smaller than n_iter=10. Running 6 iterations. For exhaustive searches, use GridSearchCV.\n",
      "  % (grid_size, self.n_iter, grid_size), UserWarning)\n",
      "[Parallel(n_jobs=1)]: Using backend SequentialBackend with 1 concurrent workers.\n"
     ]
    },
    {
     "name": "stdout",
     "output_type": "stream",
     "text": [
      "Fitting 5 folds for each of 6 candidates, totalling 30 fits\n",
      "[CV] weights=uniform, n_neighbors=3 ..................................\n",
      "[CV]  weights=uniform, n_neighbors=3, score=0.9717617659308622, total= 3.8min\n",
      "[CV] weights=uniform, n_neighbors=3 ..................................\n"
     ]
    },
    {
     "name": "stderr",
     "output_type": "stream",
     "text": [
      "[Parallel(n_jobs=1)]: Done   1 out of   1 | elapsed: 15.3min remaining:    0.0s\n"
     ]
    },
    {
     "name": "stdout",
     "output_type": "stream",
     "text": [
      "[CV]  weights=uniform, n_neighbors=3, score=0.9701716380603232, total= 3.1min\n",
      "[CV] weights=uniform, n_neighbors=3 ..................................\n"
     ]
    },
    {
     "name": "stderr",
     "output_type": "stream",
     "text": [
      "[Parallel(n_jobs=1)]: Done   2 out of   2 | elapsed: 30.2min remaining:    0.0s\n"
     ]
    },
    {
     "name": "stdout",
     "output_type": "stream",
     "text": [
      "[CV]  weights=uniform, n_neighbors=3, score=0.9703333333333334, total= 3.1min\n",
      "[CV] weights=uniform, n_neighbors=3 ..................................\n"
     ]
    },
    {
     "name": "stderr",
     "output_type": "stream",
     "text": [
      "[Parallel(n_jobs=1)]: Done   3 out of   3 | elapsed: 44.7min remaining:    0.0s\n"
     ]
    },
    {
     "name": "stdout",
     "output_type": "stream",
     "text": [
      "[CV]  weights=uniform, n_neighbors=3, score=0.9754105192964908, total= 3.1min\n",
      "[CV] weights=uniform, n_neighbors=3 ..................................\n"
     ]
    },
    {
     "name": "stderr",
     "output_type": "stream",
     "text": [
      "[Parallel(n_jobs=1)]: Done   4 out of   4 | elapsed: 59.4min remaining:    0.0s\n"
     ]
    },
    {
     "name": "stdout",
     "output_type": "stream",
     "text": [
      "[CV]  weights=uniform, n_neighbors=3, score=0.9720740246748917, total= 3.0min\n",
      "[CV] weights=distance, n_neighbors=3 .................................\n"
     ]
    },
    {
     "name": "stderr",
     "output_type": "stream",
     "text": [
      "[Parallel(n_jobs=1)]: Done   5 out of   5 | elapsed: 73.7min remaining:    0.0s\n"
     ]
    },
    {
     "name": "stdout",
     "output_type": "stream",
     "text": [
      "[CV]  weights=distance, n_neighbors=3, score=0.9729279466888796, total= 2.9min\n",
      "[CV] weights=distance, n_neighbors=3 .................................\n"
     ]
    },
    {
     "name": "stderr",
     "output_type": "stream",
     "text": [
      "[Parallel(n_jobs=1)]: Done   6 out of   6 | elapsed: 87.7min remaining:    0.0s\n"
     ]
    },
    {
     "name": "stdout",
     "output_type": "stream",
     "text": [
      "[CV]  weights=distance, n_neighbors=3, score=0.9702549575070821, total= 3.0min\n",
      "[CV] weights=distance, n_neighbors=3 .................................\n"
     ]
    },
    {
     "name": "stderr",
     "output_type": "stream",
     "text": [
      "[Parallel(n_jobs=1)]: Done   7 out of   7 | elapsed: 101.7min remaining:    0.0s\n"
     ]
    },
    {
     "name": "stdout",
     "output_type": "stream",
     "text": [
      "[CV]  weights=distance, n_neighbors=3, score=0.9709166666666667, total= 3.0min\n",
      "[CV] weights=distance, n_neighbors=3 .................................\n"
     ]
    },
    {
     "name": "stderr",
     "output_type": "stream",
     "text": [
      "[Parallel(n_jobs=1)]: Done   8 out of   8 | elapsed: 115.6min remaining:    0.0s\n"
     ]
    },
    {
     "name": "stdout",
     "output_type": "stream",
     "text": [
      "[CV]  weights=distance, n_neighbors=3, score=0.9761607068433775, total= 2.9min\n",
      "[CV] weights=distance, n_neighbors=3 .................................\n"
     ]
    },
    {
     "name": "stderr",
     "output_type": "stream",
     "text": [
      "[Parallel(n_jobs=1)]: Done   9 out of   9 | elapsed: 129.7min remaining:    0.0s\n"
     ]
    },
    {
     "name": "stdout",
     "output_type": "stream",
     "text": [
      "[CV]  weights=distance, n_neighbors=3, score=0.9735745248416139, total= 2.9min\n",
      "[CV] weights=uniform, n_neighbors=4 ..................................\n",
      "[CV]  weights=uniform, n_neighbors=4, score=0.9699291961682632, total= 2.9min\n",
      "[CV] weights=uniform, n_neighbors=4 ..................................\n",
      "[CV]  weights=uniform, n_neighbors=4, score=0.9689218463589402, total= 2.9min\n",
      "[CV] weights=uniform, n_neighbors=4 ..................................\n",
      "[CV] .... weights=uniform, n_neighbors=4, score=0.96775, total= 3.0min\n",
      "[CV] weights=uniform, n_neighbors=4 ..................................\n",
      "[CV]  weights=uniform, n_neighbors=4, score=0.9729098941402017, total= 2.9min\n",
      "[CV] weights=uniform, n_neighbors=4 ..................................\n",
      "[CV]  weights=uniform, n_neighbors=4, score=0.9706568856285428, total= 2.9min\n",
      "[CV] weights=distance, n_neighbors=4 .................................\n",
      "[CV]  weights=distance, n_neighbors=4, score=0.9735110370678883, total= 2.9min\n",
      "[CV] weights=distance, n_neighbors=4 .................................\n",
      "[CV]  weights=distance, n_neighbors=4, score=0.9725045825695717, total= 2.9min\n",
      "[CV] weights=distance, n_neighbors=4 .................................\n",
      "[CV]  weights=distance, n_neighbors=4, score=0.9723333333333334, total= 2.9min\n",
      "[CV] weights=distance, n_neighbors=4 .................................\n",
      "[CV]  weights=distance, n_neighbors=4, score=0.9760773526715012, total= 2.9min\n",
      "[CV] weights=distance, n_neighbors=4 .................................\n",
      "[CV]  weights=distance, n_neighbors=4, score=0.974324774924975, total= 2.9min\n",
      "[CV] weights=uniform, n_neighbors=5 ..................................\n",
      "[CV]  weights=uniform, n_neighbors=5, score=0.9704289879216993, total= 2.9min\n",
      "[CV] weights=uniform, n_neighbors=5 ..................................\n",
      "[CV]  weights=uniform, n_neighbors=5, score=0.9693384435927346, total= 3.0min\n",
      "[CV] weights=uniform, n_neighbors=5 ..................................\n",
      "[CV] ..... weights=uniform, n_neighbors=5, score=0.9685, total= 2.9min\n",
      "[CV] weights=uniform, n_neighbors=5 ..................................\n",
      "[CV]  weights=uniform, n_neighbors=5, score=0.9731599566558307, total= 3.1min\n",
      "[CV] weights=uniform, n_neighbors=5 ..................................\n",
      "[CV]  weights=uniform, n_neighbors=5, score=0.9720740246748917, total= 2.9min\n",
      "[CV] weights=distance, n_neighbors=5 .................................\n",
      "[CV]  weights=distance, n_neighbors=5, score=0.9723448563098709, total= 2.9min\n",
      "[CV] weights=distance, n_neighbors=5 .................................\n",
      "[CV]  weights=distance, n_neighbors=5, score=0.9705049158473588, total= 2.9min\n",
      "[CV] weights=distance, n_neighbors=5 .................................\n",
      "[CV] ... weights=distance, n_neighbors=5, score=0.97025, total= 3.0min\n",
      "[CV] weights=distance, n_neighbors=5 .................................\n",
      "[CV]  weights=distance, n_neighbors=5, score=0.9744102692339751, total= 3.0min\n",
      "[CV] weights=distance, n_neighbors=5 .................................\n",
      "[CV]  weights=distance, n_neighbors=5, score=0.9734078026008669, total= 2.9min\n"
     ]
    },
    {
     "name": "stderr",
     "output_type": "stream",
     "text": [
      "[Parallel(n_jobs=1)]: Done  30 out of  30 | elapsed: 425.1min finished\n"
     ]
    },
    {
     "data": {
      "text/plain": [
       "RandomizedSearchCV(cv=5, error_score='raise-deprecating',\n",
       "          estimator=KNeighborsClassifier(algorithm='auto', leaf_size=30, metric='minkowski',\n",
       "           metric_params=None, n_jobs=-1, n_neighbors=5, p=2,\n",
       "           weights='uniform'),\n",
       "          fit_params=None, iid='warn', n_iter=10, n_jobs=None,\n",
       "          param_distributions={'n_neighbors': [3, 4, 5], 'weights': ['uniform', 'distance']},\n",
       "          pre_dispatch='2*n_jobs', random_state=42, refit=True,\n",
       "          return_train_score='warn', scoring='accuracy', verbose=10)"
      ]
     },
     "execution_count": 8,
     "metadata": {},
     "output_type": "execute_result"
    }
   ],
   "source": [
    "from sklearn.neighbors import KNeighborsClassifier\n",
    "from sklearn.model_selection import RandomizedSearchCV\n",
    "knn_clf = KNeighborsClassifier(n_jobs=-1)\n",
    "k_range = list(range(3, 6))\n",
    "weight_options = ['uniform', 'distance']\n",
    "param_grid = dict(n_neighbors=k_range, weights=weight_options)\n",
    "rand=RandomizedSearchCV(knn_clf, param_grid, cv=5,scoring='accuracy',n_iter=10,random_state=42,verbose=10)\n",
    "rand.fit(X_train, y_train)"
   ]
  },
  {
   "cell_type": "code",
   "execution_count": 10,
   "metadata": {},
   "outputs": [
    {
     "data": {
      "text/plain": [
       "({'weights': 'distance', 'n_neighbors': 4}, 0.97375)"
      ]
     },
     "execution_count": 10,
     "metadata": {},
     "output_type": "execute_result"
    }
   ],
   "source": [
    "rand.best_params_, rand.best_score_"
   ]
  },
  {
   "cell_type": "code",
   "execution_count": 11,
   "metadata": {},
   "outputs": [
    {
     "data": {
      "text/plain": [
       "0.97140000000000004"
      ]
     },
     "execution_count": 11,
     "metadata": {},
     "output_type": "execute_result"
    }
   ],
   "source": [
    "from sklearn.metrics import accuracy_score\n",
    "y_p= rand.predict(X_test)\n",
    "accuracy_score(y_test,y_p)"
   ]
  }
 ],
 "metadata": {
  "anaconda-cloud": {},
  "kernelspec": {
   "display_name": "Python 3",
   "language": "python",
   "name": "python3"
  },
  "language_info": {
   "codemirror_mode": {
    "name": "ipython",
    "version": 3
   },
   "file_extension": ".py",
   "mimetype": "text/x-python",
   "name": "python",
   "nbconvert_exporter": "python",
   "pygments_lexer": "ipython3",
   "version": "3.7.1"
  },
  "notify_time": "5",
  "varInspector": {
   "cols": {
    "lenName": 16,
    "lenType": 16,
    "lenVar": 40
   },
   "kernels_config": {
    "python": {
     "delete_cmd_postfix": "",
     "delete_cmd_prefix": "del ",
     "library": "var_list.py",
     "varRefreshCmd": "print(var_dic_list())"
    },
    "r": {
     "delete_cmd_postfix": ") ",
     "delete_cmd_prefix": "rm(",
     "library": "var_list.r",
     "varRefreshCmd": "cat(var_dic_list()) "
    }
   },
   "types_to_exclude": [
    "module",
    "function",
    "builtin_function_or_method",
    "instance",
    "_Feature"
   ],
   "window_display": false
  }
 },
 "nbformat": 4,
 "nbformat_minor": 2
}
