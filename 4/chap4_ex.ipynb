{
 "cells": [
  {
   "cell_type": "markdown",
   "metadata": {},
   "source": [
    "1)\n",
    "SGD (training on single instance at a time)\n",
    "\n",
    "2)\n",
    "GD (may take long to converge), and maybe regularized models because they can ignore features with smaller values.\n",
    "Use standard scaler to fix, or use SVD/normal equation if applicable\n",
    "\n",
    "3)\n",
    "No, because its convex\n",
    "\n",
    "4)\n",
    "No, except if you reduce learning rate as the model is training and the problem is convex\n",
    "\n",
    "5)\n",
    "Learning rate is too high (diverges) or if only validation error goes up its overfitting\n",
    "\n",
    "6)\n",
    "Not necessarily (because of randomness), it would be better to keep track of model instances and to revert to is if it doesn't improve over a long time\n",
    "\n",
    "7)\n",
    "SGD, only BGD will converge. Otherwise SGD and MBGD will converge if you reduce the learning rate over training\n",
    "\n",
    "8)\n",
    "Overfitting. Reduce polygon order OR use regularization OR use more training data\n",
    "\n",
    "9)\n",
    "Underfitting. It suffers from high bias => reduce alpha\n",
    "\n",
    "10)\n",
    "- Ridge regression improves the performance in general compared to no regularization (linear regression)\n",
    "- If you want to reduce features\n",
    "- Better in some cases that produce erratic behaviour in lasso (more features than training instances OR several features are strongly correlated)\n",
    "\n",
    "11)\n",
    "two logistic regression classifiers because the events are not exclusive. It could also be possible to use softmax and do some selection magic instead of choosing only the highest prob"
   ]
  }
 ],
 "metadata": {
  "kernelspec": {
   "display_name": "Python 3",
   "language": "python",
   "name": "python3"
  },
  "language_info": {
   "codemirror_mode": {
    "name": "ipython",
    "version": 3
   },
   "file_extension": ".py",
   "mimetype": "text/x-python",
   "name": "python",
   "nbconvert_exporter": "python",
   "pygments_lexer": "ipython3",
   "version": "3.6.6"
  },
  "varInspector": {
   "cols": {
    "lenName": 16,
    "lenType": 16,
    "lenVar": 40
   },
   "kernels_config": {
    "python": {
     "delete_cmd_postfix": "",
     "delete_cmd_prefix": "del ",
     "library": "var_list.py",
     "varRefreshCmd": "print(var_dic_list())"
    },
    "r": {
     "delete_cmd_postfix": ") ",
     "delete_cmd_prefix": "rm(",
     "library": "var_list.r",
     "varRefreshCmd": "cat(var_dic_list()) "
    }
   },
   "types_to_exclude": [
    "module",
    "function",
    "builtin_function_or_method",
    "instance",
    "_Feature"
   ],
   "window_display": false
  }
 },
 "nbformat": 4,
 "nbformat_minor": 2
}
