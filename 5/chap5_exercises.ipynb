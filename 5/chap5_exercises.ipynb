{
 "cells": [
  {
   "cell_type": "markdown",
   "metadata": {},
   "source": [
    "### 1)\n",
    "Create widest possible separating 'road' between classes.\n",
    "Soft margin looks for a good compromise between margin size and class separation.\n",
    "### 2)\n",
    "The instances located on or within the margins, as these determine the decision boundary.\n",
    "### 3)\n",
    "It will improve margin size, and possible not neglect smaller features.\n",
    "### 4)\n",
    "Nope, but distance from boundary can be used as scores\n",
    "### 5)\n",
    "Primal and linear, it will scale linearly with training instances as opposed to somewhere between m^2 and m^3 for dual\n",
    "### 6)\n",
    "Increase gamma and/or c\n",
    "### 7)\n",
    "See relevant section in book\n",
    "### 8)"
   ]
  },
  {
   "cell_type": "code",
   "execution_count": 44,
   "metadata": {},
   "outputs": [],
   "source": [
    "import numpy as np\n",
    "from sklearn import datasets\n",
    "from matplotlib import pyplot as plt\n",
    "from sklearn.svm import LinearSVC, SVC\n",
    "from sklearn.preprocessing import StandardScaler\n",
    "from sklearn.pipeline import Pipeline\n",
    "from sklearn.linear_model import SGDClassifier\n",
    "\n",
    "\n",
    "iris = datasets.load_iris()\n",
    "X = iris[\"data\"][:, (2, 3)]  # petal length, petal width\n",
    "y = iris[\"target\"]\n",
    "\n",
    "lin_clf = Pipeline([\n",
    "    (\"scaler\", StandardScaler()),\n",
    "    (\"linear_svc\", LinearSVC(loss=\"hinge\", C=1, random_state=42))\n",
    "])\n",
    "svm_clf = Pipeline([\n",
    "    (\"scaler\", StandardScaler()),\n",
    "    (\"linear_svm\", SVC(kernel=\"linear\", C=1, random_state=42))\n",
    "])\n",
    "sgd_clf = Pipeline([\n",
    "    (\"scaler\", StandardScaler()),\n",
    "    (\"linear_sgd\", SGDClassifier(loss=\"hinge\", alpha=1.2 / (1 * len(X)), random_state=42))\n",
    "])"
   ]
  },
  {
   "cell_type": "code",
   "execution_count": 45,
   "metadata": {},
   "outputs": [
    {
     "name": "stderr",
     "output_type": "stream",
     "text": [
      "C:\\Users\\Kalvyn Roux\\Anaconda3\\envs\\ada_env\\lib\\site-packages\\sklearn\\linear_model\\stochastic_gradient.py:166: FutureWarning: max_iter and tol parameters have been added in SGDClassifier in 0.19. If both are left unset, they default to max_iter=5 and tol=None. If tol is not None, max_iter defaults to max_iter=1000. From 0.21, default max_iter will be 1000, and default tol will be 1e-3.\n",
      "  FutureWarning)\n"
     ]
    },
    {
     "data": {
      "text/plain": [
       "Pipeline(memory=None,\n",
       "     steps=[('scaler', StandardScaler(copy=True, with_mean=True, with_std=True)), ('linear_sgd', SGDClassifier(alpha=0.008, average=False, class_weight=None,\n",
       "       early_stopping=False, epsilon=0.1, eta0=0.0, fit_intercept=True,\n",
       "       l1_ratio=0.15, learning_rate='optimal', loss='hinge', max_iter=None,\n",
       "       n_iter=None, n_iter_no_change=5, n_jobs=None, penalty='l2',\n",
       "       power_t=0.5, random_state=42, shuffle=True, tol=None,\n",
       "       validation_fraction=0.1, verbose=0, warm_start=False))])"
      ]
     },
     "execution_count": 45,
     "metadata": {},
     "output_type": "execute_result"
    }
   ],
   "source": [
    "lin_clf.fit(X[(y == 0) | (y == 2)], y[(y == 0) | (y == 2)])\n",
    "svm_clf.fit(X[(y == 0) | (y == 2)], y[(y == 0) | (y == 2)])\n",
    "sgd_clf.fit(X[(y == 0) | (y == 2)], y[(y == 0) | (y == 2)])"
   ]
  },
  {
   "cell_type": "code",
   "execution_count": 46,
   "metadata": {},
   "outputs": [
    {
     "name": "stdout",
     "output_type": "stream",
     "text": [
      "lin_svc [0.16529317] [[0.80511826 0.73082609]]\n",
      "svm [0.1692673] [[0.82189265 0.71144771]]\n",
      "sgd [0.16166077] [[1.04922243 0.95103416]]\n"
     ]
    }
   ],
   "source": [
    "print(\"lin_svc\", lin_clf.named_steps['linear_svc'].intercept_, lin_clf.named_steps['linear_svc'].coef_);\n",
    "print(\"svm\", svm_clf.named_steps['linear_svm'].intercept_, svm_clf.named_steps['linear_svm'].coef_);\n",
    "print(\"sgd\", sgd_clf.named_steps['linear_sgd'].intercept_, sgd_clf.named_steps['linear_sgd'].coef_);"
   ]
  },
  {
   "cell_type": "code",
   "execution_count": 47,
   "metadata": {},
   "outputs": [],
   "source": [
    "w1 = -lin_clf.named_steps['linear_svc'].coef_[0, 0]/lin_clf.named_steps['linear_svc'].coef_[0, 1]\n",
    "b1 = -lin_clf.named_steps['linear_svc'].intercept_[0]/lin_clf.named_steps['linear_svc'].coef_[0, 1]\n",
    "w2 = -svm_clf.named_steps['linear_svm'].coef_[0, 0]/svm_clf.named_steps['linear_svm'].coef_[0, 1]\n",
    "b2 = -svm_clf.named_steps['linear_svm'].intercept_[0]/svm_clf.named_steps['linear_svm'].coef_[0, 1]\n",
    "w3 = -sgd_clf.named_steps['linear_sgd'].coef_[0, 0]/sgd_clf.named_steps['linear_sgd'].coef_[0, 1]\n",
    "b3 = -sgd_clf.named_steps['linear_sgd'].intercept_[0]/sgd_clf.named_steps['linear_sgd'].coef_[0, 1]"
   ]
  },
  {
   "cell_type": "code",
   "execution_count": 48,
   "metadata": {},
   "outputs": [],
   "source": [
    "line1 = lin_clf.named_steps['scaler'].inverse_transform([[-10, -10 * w1 + b1], [10, 10 * w1 + b1]])\n",
    "line2 = svm_clf.named_steps['scaler'].inverse_transform([[-10, -10 * w2 + b2], [10, 10 * w2 + b2]])\n",
    "line3 = sgd_clf.named_steps['scaler'].inverse_transform([[-10, -10 * w3 + b3], [10, 10 * w3 + b3]])"
   ]
  },
  {
   "cell_type": "code",
   "execution_count": 49,
   "metadata": {
    "scrolled": true
   },
   "outputs": [
    {
     "data": {
      "image/png": "[encoded data removed]",
      "text/plain": [
       "<Figure size 432x288 with 1 Axes>"
      ]
     },
     "metadata": {
      "needs_background": "light"
     },
     "output_type": "display_data"
    }
   ],
   "source": [
    "plt.plot(X[:, 0][y==2], X[:, 1][y==2], \"bs\")\n",
    "plt.plot(X[:, 0][y==0], X[:, 1][y==0], \"yo\")\n",
    "plt.plot(line1[:, 0], line1[:, 1], \"k:\", label=\"LinearSVC\")\n",
    "plt.plot(line2[:, 0], line2[:, 1], \"b--\", linewidth=2, label=\"SVC\")\n",
    "plt.plot(line3[:, 0], line3[:, 1], \"r-\", label=\"SGDClassifier\")\n",
    "plt.xlabel(\"Petal length\", fontsize=14)\n",
    "plt.ylabel(\"Petal width\", fontsize=14)\n",
    "plt.legend(loc=\"upper center\", fontsize=14)\n",
    "plt.axis([0, 8, -0.5, 3])\n",
    "plt.show()"
   ]
  },
  {
   "cell_type": "markdown",
   "metadata": {},
   "source": [
    "### 9)"
   ]
  },
  {
   "cell_type": "code",
   "execution_count": null,
   "metadata": {},
   "outputs": [],
   "source": []
  }
 ],
 "metadata": {
  "kernelspec": {
   "display_name": "Python 3",
   "language": "python",
   "name": "python3"
  },
  "language_info": {
   "codemirror_mode": {
    "name": "ipython",
    "version": 3
   },
   "file_extension": ".py",
   "mimetype": "text/x-python",
   "name": "python",
   "nbconvert_exporter": "python",
   "pygments_lexer": "ipython3",
   "version": "3.6.6"
  },
  "varInspector": {
   "cols": {
    "lenName": 16,
    "lenType": 16,
    "lenVar": 40
   },
   "kernels_config": {
    "python": {
     "delete_cmd_postfix": "",
     "delete_cmd_prefix": "del ",
     "library": "var_list.py",
     "varRefreshCmd": "print(var_dic_list())"
    },
    "r": {
     "delete_cmd_postfix": ") ",
     "delete_cmd_prefix": "rm(",
     "library": "var_list.r",
     "varRefreshCmd": "cat(var_dic_list()) "
    }
   },
   "types_to_exclude": [
    "module",
    "function",
    "builtin_function_or_method",
    "instance",
    "_Feature"
   ],
   "window_display": false
  }
 },
 "nbformat": 4,
 "nbformat_minor": 2
}
