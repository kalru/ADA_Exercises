{
 "cells": [
  {
   "cell_type": "markdown",
   "metadata": {},
   "source": [
    "### 1)\n",
    "simplified interface (autodiff, parallel computation)\n",
    "\n",
    "harder learning curve, harder debugging\n",
    "### 2)\n",
    "yes\n",
    "### 3)\n",
    "no...\n",
    "### 4)\n",
    "no...\n",
    "### 5)\n",
    "depends if tensorflow is local or distributed\n",
    "### 6)\n",
    "initializer, and end of session\n",
    "### 7)\n",
    "variable holds assigned value\n",
    "\n",
    "hold information about tensor\n",
    "### 8)\n",
    "exception, no exception\n",
    "### 9)\n",
    "any op, but not placeholder value\n",
    "### 10)\n",
    "tf.assign\n",
    "### 11)\n",
    "rev: twice\n",
    "\n",
    "forw: 10 times\n",
    "\n",
    "sym: n/a"
   ]
  }
 ],
 "metadata": {
  "kernelspec": {
   "display_name": "Python 3",
   "language": "python",
   "name": "python3"
  },
  "language_info": {
   "codemirror_mode": {
    "name": "ipython",
    "version": 3
   },
   "file_extension": ".py",
   "mimetype": "text/x-python",
   "name": "python",
   "nbconvert_exporter": "python",
   "pygments_lexer": "ipython3",
   "version": "3.6.8"
  },
  "varInspector": {
   "cols": {
    "lenName": 16,
    "lenType": 16,
    "lenVar": 40
   },
   "kernels_config": {
    "python": {
     "delete_cmd_postfix": "",
     "delete_cmd_prefix": "del ",
     "library": "var_list.py",
     "varRefreshCmd": "print(var_dic_list())"
    },
    "r": {
     "delete_cmd_postfix": ") ",
     "delete_cmd_prefix": "rm(",
     "library": "var_list.r",
     "varRefreshCmd": "cat(var_dic_list()) "
    }
   },
   "types_to_exclude": [
    "module",
    "function",
    "builtin_function_or_method",
    "instance",
    "_Feature"
   ],
   "window_display": false
  }
 },
 "nbformat": 4,
 "nbformat_minor": 2
}
