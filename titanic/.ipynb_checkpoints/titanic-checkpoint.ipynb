{
 "cells": [
  {
   "cell_type": "code",
   "execution_count": 1,
   "metadata": {},
   "outputs": [],
   "source": [
    "# make it nice and dark\n",
    "import pandas as pd\n",
    "import matplotlib.pyplot as plt\n",
    "import numpy as np\n",
    "from jupyterthemes import jtplot\n",
    "jtplot.style()\n",
    "\n",
    "test_df = pd.read_csv(\"test.csv\")\n",
    "train_df = pd.read_csv(\"train.csv\")"
   ]
  },
  {
   "cell_type": "code",
   "execution_count": 2,
   "metadata": {},
   "outputs": [
    {
     "data": {
      "text/html": [
       "<div>\n",
       "<style scoped>\n",
       "    .dataframe tbody tr th:only-of-type {\n",
       "        vertical-align: middle;\n",
       "    }\n",
       "\n",
       "    .dataframe tbody tr th {\n",
       "        vertical-align: top;\n",
       "    }\n",
       "\n",
       "    .dataframe thead th {\n",
       "        text-align: right;\n",
       "    }\n",
       "</style>\n",
       "<table border=\"1\" class=\"dataframe\">\n",
       "  <thead>\n",
       "    <tr style=\"text-align: right;\">\n",
       "      <th></th>\n",
       "      <th>PassengerId</th>\n",
       "      <th>Pclass</th>\n",
       "      <th>Name</th>\n",
       "      <th>Sex</th>\n",
       "      <th>Age</th>\n",
       "      <th>SibSp</th>\n",
       "      <th>Parch</th>\n",
       "      <th>Ticket</th>\n",
       "      <th>Fare</th>\n",
       "      <th>Cabin</th>\n",
       "      <th>Embarked</th>\n",
       "    </tr>\n",
       "  </thead>\n",
       "  <tbody>\n",
       "    <tr>\n",
       "      <th>0</th>\n",
       "      <td>892</td>\n",
       "      <td>3</td>\n",
       "      <td>Kelly, Mr. James</td>\n",
       "      <td>male</td>\n",
       "      <td>34.5</td>\n",
       "      <td>0</td>\n",
       "      <td>0</td>\n",
       "      <td>330911</td>\n",
       "      <td>7.8292</td>\n",
       "      <td>NaN</td>\n",
       "      <td>Q</td>\n",
       "    </tr>\n",
       "    <tr>\n",
       "      <th>1</th>\n",
       "      <td>893</td>\n",
       "      <td>3</td>\n",
       "      <td>Wilkes, Mrs. James (Ellen Needs)</td>\n",
       "      <td>female</td>\n",
       "      <td>47.0</td>\n",
       "      <td>1</td>\n",
       "      <td>0</td>\n",
       "      <td>363272</td>\n",
       "      <td>7.0000</td>\n",
       "      <td>NaN</td>\n",
       "      <td>S</td>\n",
       "    </tr>\n",
       "    <tr>\n",
       "      <th>2</th>\n",
       "      <td>894</td>\n",
       "      <td>2</td>\n",
       "      <td>Myles, Mr. Thomas Francis</td>\n",
       "      <td>male</td>\n",
       "      <td>62.0</td>\n",
       "      <td>0</td>\n",
       "      <td>0</td>\n",
       "      <td>240276</td>\n",
       "      <td>9.6875</td>\n",
       "      <td>NaN</td>\n",
       "      <td>Q</td>\n",
       "    </tr>\n",
       "    <tr>\n",
       "      <th>3</th>\n",
       "      <td>895</td>\n",
       "      <td>3</td>\n",
       "      <td>Wirz, Mr. Albert</td>\n",
       "      <td>male</td>\n",
       "      <td>27.0</td>\n",
       "      <td>0</td>\n",
       "      <td>0</td>\n",
       "      <td>315154</td>\n",
       "      <td>8.6625</td>\n",
       "      <td>NaN</td>\n",
       "      <td>S</td>\n",
       "    </tr>\n",
       "    <tr>\n",
       "      <th>4</th>\n",
       "      <td>896</td>\n",
       "      <td>3</td>\n",
       "      <td>Hirvonen, Mrs. Alexander (Helga E Lindqvist)</td>\n",
       "      <td>female</td>\n",
       "      <td>22.0</td>\n",
       "      <td>1</td>\n",
       "      <td>1</td>\n",
       "      <td>3101298</td>\n",
       "      <td>12.2875</td>\n",
       "      <td>NaN</td>\n",
       "      <td>S</td>\n",
       "    </tr>\n",
       "  </tbody>\n",
       "</table>\n",
       "</div>"
      ],
      "text/plain": [
       "   PassengerId  Pclass                                          Name     Sex  \\\n",
       "0          892       3                              Kelly, Mr. James    male   \n",
       "1          893       3              Wilkes, Mrs. James (Ellen Needs)  female   \n",
       "2          894       2                     Myles, Mr. Thomas Francis    male   \n",
       "3          895       3                              Wirz, Mr. Albert    male   \n",
       "4          896       3  Hirvonen, Mrs. Alexander (Helga E Lindqvist)  female   \n",
       "\n",
       "    Age  SibSp  Parch   Ticket     Fare Cabin Embarked  \n",
       "0  34.5      0      0   330911   7.8292   NaN        Q  \n",
       "1  47.0      1      0   363272   7.0000   NaN        S  \n",
       "2  62.0      0      0   240276   9.6875   NaN        Q  \n",
       "3  27.0      0      0   315154   8.6625   NaN        S  \n",
       "4  22.0      1      1  3101298  12.2875   NaN        S  "
      ]
     },
     "execution_count": 2,
     "metadata": {},
     "output_type": "execute_result"
    }
   ],
   "source": [
    "test_df.head()"
   ]
  },
  {
   "cell_type": "code",
   "execution_count": 3,
   "metadata": {
    "scrolled": true
   },
   "outputs": [
    {
     "data": {
      "text/html": [
       "<div>\n",
       "<style scoped>\n",
       "    .dataframe tbody tr th:only-of-type {\n",
       "        vertical-align: middle;\n",
       "    }\n",
       "\n",
       "    .dataframe tbody tr th {\n",
       "        vertical-align: top;\n",
       "    }\n",
       "\n",
       "    .dataframe thead th {\n",
       "        text-align: right;\n",
       "    }\n",
       "</style>\n",
       "<table border=\"1\" class=\"dataframe\">\n",
       "  <thead>\n",
       "    <tr style=\"text-align: right;\">\n",
       "      <th></th>\n",
       "      <th>PassengerId</th>\n",
       "      <th>Survived</th>\n",
       "      <th>Pclass</th>\n",
       "      <th>Name</th>\n",
       "      <th>Sex</th>\n",
       "      <th>Age</th>\n",
       "      <th>SibSp</th>\n",
       "      <th>Parch</th>\n",
       "      <th>Ticket</th>\n",
       "      <th>Fare</th>\n",
       "      <th>Cabin</th>\n",
       "      <th>Embarked</th>\n",
       "    </tr>\n",
       "  </thead>\n",
       "  <tbody>\n",
       "    <tr>\n",
       "      <th>0</th>\n",
       "      <td>1</td>\n",
       "      <td>0</td>\n",
       "      <td>3</td>\n",
       "      <td>Braund, Mr. Owen Harris</td>\n",
       "      <td>male</td>\n",
       "      <td>22.0</td>\n",
       "      <td>1</td>\n",
       "      <td>0</td>\n",
       "      <td>A/5 21171</td>\n",
       "      <td>7.2500</td>\n",
       "      <td>NaN</td>\n",
       "      <td>S</td>\n",
       "    </tr>\n",
       "    <tr>\n",
       "      <th>1</th>\n",
       "      <td>2</td>\n",
       "      <td>1</td>\n",
       "      <td>1</td>\n",
       "      <td>Cumings, Mrs. John Bradley (Florence Briggs Th...</td>\n",
       "      <td>female</td>\n",
       "      <td>38.0</td>\n",
       "      <td>1</td>\n",
       "      <td>0</td>\n",
       "      <td>PC 17599</td>\n",
       "      <td>71.2833</td>\n",
       "      <td>C85</td>\n",
       "      <td>C</td>\n",
       "    </tr>\n",
       "    <tr>\n",
       "      <th>2</th>\n",
       "      <td>3</td>\n",
       "      <td>1</td>\n",
       "      <td>3</td>\n",
       "      <td>Heikkinen, Miss. Laina</td>\n",
       "      <td>female</td>\n",
       "      <td>26.0</td>\n",
       "      <td>0</td>\n",
       "      <td>0</td>\n",
       "      <td>STON/O2. 3101282</td>\n",
       "      <td>7.9250</td>\n",
       "      <td>NaN</td>\n",
       "      <td>S</td>\n",
       "    </tr>\n",
       "    <tr>\n",
       "      <th>3</th>\n",
       "      <td>4</td>\n",
       "      <td>1</td>\n",
       "      <td>1</td>\n",
       "      <td>Futrelle, Mrs. Jacques Heath (Lily May Peel)</td>\n",
       "      <td>female</td>\n",
       "      <td>35.0</td>\n",
       "      <td>1</td>\n",
       "      <td>0</td>\n",
       "      <td>113803</td>\n",
       "      <td>53.1000</td>\n",
       "      <td>C123</td>\n",
       "      <td>S</td>\n",
       "    </tr>\n",
       "    <tr>\n",
       "      <th>4</th>\n",
       "      <td>5</td>\n",
       "      <td>0</td>\n",
       "      <td>3</td>\n",
       "      <td>Allen, Mr. William Henry</td>\n",
       "      <td>male</td>\n",
       "      <td>35.0</td>\n",
       "      <td>0</td>\n",
       "      <td>0</td>\n",
       "      <td>373450</td>\n",
       "      <td>8.0500</td>\n",
       "      <td>NaN</td>\n",
       "      <td>S</td>\n",
       "    </tr>\n",
       "  </tbody>\n",
       "</table>\n",
       "</div>"
      ],
      "text/plain": [
       "   PassengerId  Survived  Pclass  \\\n",
       "0            1         0       3   \n",
       "1            2         1       1   \n",
       "2            3         1       3   \n",
       "3            4         1       1   \n",
       "4            5         0       3   \n",
       "\n",
       "                                                Name     Sex   Age  SibSp  \\\n",
       "0                            Braund, Mr. Owen Harris    male  22.0      1   \n",
       "1  Cumings, Mrs. John Bradley (Florence Briggs Th...  female  38.0      1   \n",
       "2                             Heikkinen, Miss. Laina  female  26.0      0   \n",
       "3       Futrelle, Mrs. Jacques Heath (Lily May Peel)  female  35.0      1   \n",
       "4                           Allen, Mr. William Henry    male  35.0      0   \n",
       "\n",
       "   Parch            Ticket     Fare Cabin Embarked  \n",
       "0      0         A/5 21171   7.2500   NaN        S  \n",
       "1      0          PC 17599  71.2833   C85        C  \n",
       "2      0  STON/O2. 3101282   7.9250   NaN        S  \n",
       "3      0            113803  53.1000  C123        S  \n",
       "4      0            373450   8.0500   NaN        S  "
      ]
     },
     "execution_count": 3,
     "metadata": {},
     "output_type": "execute_result"
    }
   ],
   "source": [
    "train_df.head()"
   ]
  },
  {
   "cell_type": "code",
   "execution_count": 4,
   "metadata": {},
   "outputs": [],
   "source": [
    "# haal uit\n",
    "#tit_df = pd.read_csv(\"titanic.csv\")\n",
    "#df=test_df[['Name', 'Ticket', 'PassengerId']].rename(columns={'Name':'name', 'Ticket':'ticket'})\n",
    "#pd.merge(df ,tit_df, on=['name', 'ticket'], how='inner')\n",
    "# sort of test answers"
   ]
  },
  {
   "cell_type": "code",
   "execution_count": 5,
   "metadata": {
    "scrolled": true
   },
   "outputs": [
    {
     "data": {
      "text/plain": [
       "([<matplotlib.axis.XTick at 0x1bdf250f668>,\n",
       "  <matplotlib.axis.XTick at 0x1bdf24f8f60>,\n",
       "  <matplotlib.axis.XTick at 0x1bdf24f8cc0>],\n",
       " <a list of 3 Text xticklabel objects>)"
      ]
     },
     "execution_count": 5,
     "metadata": {},
     "output_type": "execute_result"
    },
    {
     "data": {
      "image/png": "[encoded data removed]",
      "text/plain": [
       "<Figure size 432x288 with 1 Axes>"
      ]
     },
     "metadata": {
      "needs_background": "dark"
     },
     "output_type": "display_data"
    }
   ],
   "source": [
    "plt.bar(train_df['Pclass'].value_counts().sort_index().keys(), train_df['Pclass'][train_df['Survived']\n",
    "                                                                                  == 1].value_counts().sort_index()/train_df['Pclass'].value_counts().sort_index())\n",
    "plt.xlabel('Class', fontsize=18)\n",
    "plt.ylabel('Probability of survival', fontsize=18)\n",
    "plt.xticks(ticks=[1, 2, 3])"
   ]
  },
  {
   "cell_type": "code",
   "execution_count": 6,
   "metadata": {},
   "outputs": [
    {
     "data": {
      "text/plain": [
       "Text(0, 0.5, 'Probability of survival')"
      ]
     },
     "execution_count": 6,
     "metadata": {},
     "output_type": "execute_result"
    },
    {
     "data": {
      "image/png": "[encoded data removed]",
      "text/plain": [
       "<Figure size 432x288 with 1 Axes>"
      ]
     },
     "metadata": {
      "needs_background": "dark"
     },
     "output_type": "display_data"
    }
   ],
   "source": [
    "plt.bar(train_df['Sex'].value_counts().sort_index().keys(), train_df['Sex'][train_df['Survived']\n",
    "                                                                            == 1].value_counts().sort_index()/train_df['Sex'].value_counts().sort_index())\n",
    "plt.xlabel('Sex', fontsize=18)\n",
    "plt.ylabel('Probability of survival', fontsize=18)"
   ]
  },
  {
   "cell_type": "code",
   "execution_count": 7,
   "metadata": {},
   "outputs": [
    {
     "name": "stdout",
     "output_type": "stream",
     "text": [
      "<class 'pandas.core.frame.DataFrame'>\n",
      "RangeIndex: 891 entries, 0 to 890\n",
      "Data columns (total 12 columns):\n",
      "PassengerId    891 non-null int64\n",
      "Survived       891 non-null int64\n",
      "Pclass         891 non-null int64\n",
      "Name           891 non-null object\n",
      "Sex            891 non-null object\n",
      "Age            714 non-null float64\n",
      "SibSp          891 non-null int64\n",
      "Parch          891 non-null int64\n",
      "Ticket         891 non-null object\n",
      "Fare           891 non-null float64\n",
      "Cabin          204 non-null object\n",
      "Embarked       889 non-null object\n",
      "dtypes: float64(2), int64(5), object(5)\n",
      "memory usage: 83.6+ KB\n"
     ]
    }
   ],
   "source": [
    "train_df.info()"
   ]
  },
  {
   "cell_type": "code",
   "execution_count": 8,
   "metadata": {},
   "outputs": [
    {
     "data": {
      "text/plain": [
       "Text(0, 0.5, 'Probability of survival')"
      ]
     },
     "execution_count": 8,
     "metadata": {},
     "output_type": "execute_result"
    },
    {
     "data": {
      "image/png": "[encoded data removed]",
      "text/plain": [
       "<Figure size 432x288 with 1 Axes>"
      ]
     },
     "metadata": {
      "needs_background": "dark"
     },
     "output_type": "display_data"
    }
   ],
   "source": [
    "# analyse age bins\n",
    "# check weer\n",
    "train_df['AgeBins'] = train_df['Age'].fillna(-0.5)\n",
    "test_df['AgeBins'] = test_df['Age'].fillna(-0.5)\n",
    "bins = [-1, 0, 14, 25, 35, 60, np.inf]\n",
    "labels = ['Unknown', 'Child', 'Teenager', 'Young Adult', 'Adult', 'Senior']\n",
    "train_df['AgeBins'] = pd.cut(train_df['AgeBins'], bins, labels=labels)\n",
    "test_df['AgeBins'] = pd.cut(test_df['AgeBins'], bins, labels=labels)\n",
    "plt.bar(train_df['AgeBins'].value_counts().sort_index().keys(), train_df['AgeBins']\n",
    "        [train_df['Survived'] == 1].value_counts().sort_index()/train_df['AgeBins'].value_counts().sort_index())\n",
    "plt.xlabel('Age group', fontsize=18)\n",
    "plt.ylabel('Probability of survival', fontsize=18)"
   ]
  },
  {
   "cell_type": "code",
   "execution_count": 9,
   "metadata": {},
   "outputs": [
    {
     "data": {
      "text/plain": [
       "Text(0, 0.5, 'Count')"
      ]
     },
     "execution_count": 9,
     "metadata": {},
     "output_type": "execute_result"
    },
    {
     "data": {
      "image/png": "[encoded data removed]",
      "text/plain": [
       "<Figure size 432x288 with 1 Axes>"
      ]
     },
     "metadata": {
      "needs_background": "dark"
     },
     "output_type": "display_data"
    }
   ],
   "source": [
    "train_df_title = pd.Series(\n",
    "    [i.split(',')[1].split('.')[0].strip() for i in train_df['Name']])\n",
    "plt.bar(train_df_title.value_counts().sort_index().keys(),\n",
    "        train_df_title.value_counts().sort_index())\n",
    "plt.xticks(rotation=90)\n",
    "plt.xlabel('Title', fontsize=18)\n",
    "plt.ylabel('Count', fontsize=18)"
   ]
  },
  {
   "cell_type": "code",
   "execution_count": 10,
   "metadata": {
    "scrolled": false
   },
   "outputs": [
    {
     "name": "stdout",
     "output_type": "stream",
     "text": [
      "Mr              517\n",
      "Miss            182\n",
      "Mrs             125\n",
      "Master           40\n",
      "Dr                7\n",
      "Rev               6\n",
      "Major             2\n",
      "Col               2\n",
      "Mlle              2\n",
      "Capt              1\n",
      "Mme               1\n",
      "Lady              1\n",
      "the Countess      1\n",
      "Jonkheer          1\n",
      "Ms                1\n",
      "Don               1\n",
      "Sir               1\n",
      "dtype: int64\n"
     ]
    },
    {
     "data": {
      "image/png": "[encoded data removed]",
      "text/plain": [
       "<Figure size 432x288 with 1 Axes>"
      ]
     },
     "metadata": {
      "needs_background": "dark"
     },
     "output_type": "display_data"
    }
   ],
   "source": [
    "# Analyse Names\n",
    "# get title\n",
    "train_df_title = pd.Series(\n",
    "    [i.split(',')[1].split('.')[0].strip() for i in train_df['Name']])\n",
    "test_df_title = pd.Series(\n",
    "    [i.split(',')[1].split('.')[0].strip() for i in test_df['Name']])\n",
    "print(train_df_title.value_counts())\n",
    "# reduce 17 titles to 4: Mr, Mrs, Master and Rest for use in models\n",
    "train_df_title = train_df_title.replace(\n",
    "    ['Lady', 'the Countess', 'Capt', 'Col', 'Don', 'Dona', 'Dr', 'Major', 'Rev', 'Sir', 'Jonkheer', 'Don'], 'Rest')\n",
    "train_df_title = train_df_title.replace(\n",
    "    ['Miss', 'Mrs', 'Mlle', 'Ms', 'Mme'], 'Mrs')\n",
    "test_df_title = test_df_title.replace(\n",
    "    ['Lady', 'the Countess', 'Capt', 'Col', 'Don', 'Dona', 'Dr', 'Major', 'Rev', 'Sir', 'Jonkheer', 'Don'], 'Rest')\n",
    "test_df_title = test_df_title.replace(\n",
    "    ['Miss', 'Mrs', 'Mlle', 'Ms', 'Mme'], 'Mrs')\n",
    "# survival rate agrees with \"women and children first\" policy depicted in the film\n",
    "plt.bar(train_df_title.value_counts().keys(), train_df_title[train_df['Survived'] == 1].value_counts(\n",
    ").reindex(train_df_title.value_counts().keys())/train_df_title.value_counts())\n",
    "plt.xlabel('Title', fontsize=18)\n",
    "plt.ylabel('Survival Probability', fontsize=18)\n",
    "# add titles to train_df\n",
    "train_df = pd.concat([train_df, pd.DataFrame(\n",
    "    train_df_title, columns=['Title'])], axis=1)\n",
    "test_df = pd.concat([test_df, pd.DataFrame(\n",
    "    test_df_title, columns=['Title'])], axis=1)"
   ]
  },
  {
   "cell_type": "code",
   "execution_count": 11,
   "metadata": {},
   "outputs": [
    {
     "data": {
      "image/png": "[encoded data removed]",
      "text/plain": [
       "<Figure size 432x288 with 1 Axes>"
      ]
     },
     "metadata": {
      "needs_background": "dark"
     },
     "output_type": "display_data"
    },
    {
     "data": {
      "image/png": "[encoded data removed]",
      "text/plain": [
       "<Figure size 432x288 with 1 Axes>"
      ]
     },
     "metadata": {
      "needs_background": "dark"
     },
     "output_type": "display_data"
    }
   ],
   "source": [
    "plt.figure()\n",
    "plt.bar(train_df['SibSp'].value_counts().sort_index().keys(), train_df['SibSp'][train_df['Survived']\n",
    "                                                                                == 1].value_counts().sort_index()/train_df['SibSp'].value_counts().sort_index())\n",
    "plt.xlabel('Number of siblings/spouses', fontsize=18)\n",
    "plt.ylabel('Probability of survival', fontsize=18)\n",
    "plt.xticks(train_df['SibSp'].value_counts().sort_index().keys())\n",
    "plt.figure()\n",
    "plt.bar(train_df['Parch'].value_counts().sort_index().keys(), train_df['Parch'][train_df['Survived']\n",
    "                                                                                == 1].value_counts().sort_index()/train_df['Parch'].value_counts().sort_index())\n",
    "plt.xlabel('Number of parents/children', fontsize=18)\n",
    "plt.ylabel('Probability of survival', fontsize=18)\n",
    "plt.xticks(train_df['Parch'].value_counts().sort_index().keys())"
   ]
  },
  {
   "cell_type": "code",
   "execution_count": 12,
   "metadata": {
    "scrolled": false
   },
   "outputs": [
    {
     "name": "stdout",
     "output_type": "stream",
     "text": [
      "1     537\n",
      "2     161\n",
      "3     102\n",
      "4      29\n",
      "5      15\n",
      "6      22\n",
      "7      12\n",
      "8       6\n",
      "11      7\n",
      "Name: Fsize, dtype: int64\n"
     ]
    },
    {
     "name": "stderr",
     "output_type": "stream",
     "text": [
      "C:\\Users\\Kalvyn\\Anaconda3\\envs\\ada_env\\lib\\site-packages\\ipykernel_launcher.py:20: SettingWithCopyWarning: \n",
      "A value is trying to be set on a copy of a slice from a DataFrame\n",
      "\n",
      "See the caveats in the documentation: http://pandas.pydata.org/pandas-docs/stable/indexing.html#indexing-view-versus-copy\n",
      "C:\\Users\\Kalvyn\\Anaconda3\\envs\\ada_env\\lib\\site-packages\\ipykernel_launcher.py:21: SettingWithCopyWarning: \n",
      "A value is trying to be set on a copy of a slice from a DataFrame\n",
      "\n",
      "See the caveats in the documentation: http://pandas.pydata.org/pandas-docs/stable/indexing.html#indexing-view-versus-copy\n",
      "C:\\Users\\Kalvyn\\Anaconda3\\envs\\ada_env\\lib\\site-packages\\ipykernel_launcher.py:22: SettingWithCopyWarning: \n",
      "A value is trying to be set on a copy of a slice from a DataFrame\n",
      "\n",
      "See the caveats in the documentation: http://pandas.pydata.org/pandas-docs/stable/indexing.html#indexing-view-versus-copy\n",
      "C:\\Users\\Kalvyn\\Anaconda3\\envs\\ada_env\\lib\\site-packages\\ipykernel_launcher.py:23: SettingWithCopyWarning: \n",
      "A value is trying to be set on a copy of a slice from a DataFrame\n",
      "\n",
      "See the caveats in the documentation: http://pandas.pydata.org/pandas-docs/stable/indexing.html#indexing-view-versus-copy\n",
      "C:\\Users\\Kalvyn\\Anaconda3\\envs\\ada_env\\lib\\site-packages\\ipykernel_launcher.py:26: SettingWithCopyWarning: \n",
      "A value is trying to be set on a copy of a slice from a DataFrame\n",
      "\n",
      "See the caveats in the documentation: http://pandas.pydata.org/pandas-docs/stable/indexing.html#indexing-view-versus-copy\n",
      "C:\\Users\\Kalvyn\\Anaconda3\\envs\\ada_env\\lib\\site-packages\\ipykernel_launcher.py:27: SettingWithCopyWarning: \n",
      "A value is trying to be set on a copy of a slice from a DataFrame\n",
      "\n",
      "See the caveats in the documentation: http://pandas.pydata.org/pandas-docs/stable/indexing.html#indexing-view-versus-copy\n",
      "C:\\Users\\Kalvyn\\Anaconda3\\envs\\ada_env\\lib\\site-packages\\ipykernel_launcher.py:28: SettingWithCopyWarning: \n",
      "A value is trying to be set on a copy of a slice from a DataFrame\n",
      "\n",
      "See the caveats in the documentation: http://pandas.pydata.org/pandas-docs/stable/indexing.html#indexing-view-versus-copy\n",
      "C:\\Users\\Kalvyn\\Anaconda3\\envs\\ada_env\\lib\\site-packages\\ipykernel_launcher.py:29: SettingWithCopyWarning: \n",
      "A value is trying to be set on a copy of a slice from a DataFrame\n",
      "\n",
      "See the caveats in the documentation: http://pandas.pydata.org/pandas-docs/stable/indexing.html#indexing-view-versus-copy\n"
     ]
    },
    {
     "data": {
      "text/plain": [
       "Text(0, 0.5, 'Probability of survival')"
      ]
     },
     "execution_count": 12,
     "metadata": {},
     "output_type": "execute_result"
    },
    {
     "data": {
      "image/png": "[encoded data removed]",
      "text/plain": [
       "<Figure size 432x288 with 1 Axes>"
      ]
     },
     "metadata": {
      "needs_background": "dark"
     },
     "output_type": "display_data"
    },
    {
     "data": {
      "image/png": "[encoded data removed]",
      "text/plain": [
       "<Figure size 432x288 with 1 Axes>"
      ]
     },
     "metadata": {
      "needs_background": "dark"
     },
     "output_type": "display_data"
    }
   ],
   "source": [
    "# family size\n",
    "# add column for family size (+1 for passenger)\n",
    "train_df['Fsize'] = train_df['SibSp'] + train_df['Parch'] + 1\n",
    "survived = pd.Series(\n",
    "    train_df['Fsize'][train_df['Survived'] == 1].value_counts().sort_index())\n",
    "tot = pd.Series(train_df['Fsize'].value_counts().sort_index())\n",
    "\n",
    "test_df['Fsize'] = test_df['SibSp'] + test_df['Parch'] + 1\n",
    "# family size count\n",
    "print(tot)\n",
    "# add missing indices\n",
    "survived = survived.combine(tot, lambda x1, x2: x1 if x1 < x2 else 0)\n",
    "plt.figure()\n",
    "plt.bar(tot.keys(), survived/tot)\n",
    "plt.xlabel('Family size', fontsize=18)\n",
    "plt.ylabel('Probability of survival', fontsize=18)\n",
    "plt.xticks(tot.keys())\n",
    "# smaller families have higher chance of survival\n",
    "# create family size bins singleF, smalF, medF, largeF\n",
    "train_df['Fbin'] = train_df['SibSp']  # dummy var to init\n",
    "train_df['Fbin'][train_df['Fsize'] == 1] = train_df['Fsize'].map(\n",
    "    lambda s: 'Single' if s == 1 else s)\n",
    "train_df['Fbin'][train_df['Fsize'] == 2] = train_df['Fsize'].map(\n",
    "    lambda s: 'SmallF' if s == 2 else s)\n",
    "train_df['Fbin'][(train_df['Fsize'] <= 4) & (train_df['Fsize'] >= 3)\n",
    "                 ] = train_df['Fsize'].map(lambda s: 'MedF' if 3 <= s <= 4 else s)\n",
    "train_df['Fbin'][train_df['Fsize'] >= 5] = train_df['Fsize'].map(\n",
    "    lambda s: 'LargeF' if s >= 5 else s)\n",
    "\n",
    "test_df['Fbin'] = test_df['SibSp']  # dummy var to init\n",
    "test_df['Fbin'][test_df['Fsize'] == 1] = test_df['Fsize'].map(\n",
    "    lambda s: 'Single' if s == 1 else s)\n",
    "test_df['Fbin'][test_df['Fsize'] == 2] = test_df['Fsize'].map(\n",
    "    lambda s: 'SmallF' if s == 2 else s)\n",
    "test_df['Fbin'][(test_df['Fsize'] <= 4) & (test_df['Fsize'] >= 3)\n",
    "                ] = test_df['Fsize'].map(lambda s: 'MedF' if 3 <= s <= 4 else s)\n",
    "test_df['Fbin'][test_df['Fsize'] >= 5] = test_df['Fsize'].map(\n",
    "    lambda s: 'LargeF' if s >= 5 else s)\n",
    "plt.figure()\n",
    "# small and medium families have bigger chance of survival\n",
    "plt.bar(train_df['Fbin'].value_counts().sort_index().keys(), train_df['Fbin'][train_df['Survived']\n",
    "                                                                              == 1].value_counts().sort_index()/train_df['Fbin'].value_counts().sort_index())\n",
    "plt.xlabel('Family size', fontsize=18)\n",
    "plt.ylabel('Probability of survival', fontsize=18)"
   ]
  },
  {
   "cell_type": "code",
   "execution_count": 13,
   "metadata": {},
   "outputs": [
    {
     "data": {
      "text/plain": [
       "Text(0, 0.5, 'Probability of survival')"
      ]
     },
     "execution_count": 13,
     "metadata": {},
     "output_type": "execute_result"
    },
    {
     "data": {
      "image/png": "[encoded data removed]",
      "text/plain": [
       "<Figure size 432x288 with 1 Axes>"
      ]
     },
     "metadata": {
      "needs_background": "dark"
     },
     "output_type": "display_data"
    }
   ],
   "source": [
    "# cabin, only 204 non-null objects from info()\n",
    "# might be uselful to distiguish between cabin and non-cabin\n",
    "train_df['Cabin'] = pd.Series(['Cabin' if not pd.isnull(\n",
    "    i) else 'NotCabin' for i in train_df['Cabin']])\n",
    "test_df['Cabin'] = pd.Series(['Cabin' if not pd.isnull(\n",
    "    i) else 'NotCabin' for i in test_df['Cabin']])\n",
    "# poeple with cabins had a better chance of survival\n",
    "plt.bar(train_df['Cabin'].value_counts().sort_index().keys(), train_df['Cabin'][train_df['Survived']\n",
    "                                                                                == 1].value_counts().sort_index()/train_df['Cabin'].value_counts().sort_index())\n",
    "plt.ylabel('Probability of survival', fontsize=18)"
   ]
  },
  {
   "cell_type": "code",
   "execution_count": 14,
   "metadata": {
    "scrolled": false
   },
   "outputs": [
    {
     "name": "stdout",
     "output_type": "stream",
     "text": [
      "NoTicket     661\n",
      "PC            60\n",
      "C.A.          27\n",
      "STONO2.       18\n",
      "A5            10\n",
      "W.C.           9\n",
      "SOTONO.Q.      8\n",
      "CA.            8\n",
      "A5.            7\n",
      "SOTONOQ        7\n",
      "CA             6\n",
      "F.C.C.         5\n",
      "SCPARIS        5\n",
      "C              5\n",
      "S.O.C.         5\n",
      "SCParis        4\n",
      "               4\n",
      "A4.            4\n",
      "A.5.           4\n",
      "A4             3\n",
      "S.O.P.P.       3\n",
      "PP             3\n",
      "PPP            2\n",
      "SOTONO2        2\n",
      "S.C.PARIS      2\n",
      "SCAH           2\n",
      "WEP            2\n",
      "Fa             1\n",
      "SWPP           1\n",
      "WC             1\n",
      "S.W.PP         1\n",
      "AS             1\n",
      "S.O.P.         1\n",
      "S.P.           1\n",
      "C.A.SOTON      1\n",
      "SCOW           1\n",
      "F.C.           1\n",
      "W.E.P.         1\n",
      "SC             1\n",
      "S.C.A.4.       1\n",
      "SCAHBasle      1\n",
      "SOC            1\n",
      "Name: Ticket, dtype: int64 42\n",
      "NoTicket    661\n",
      "Ticket      230\n",
      "Name: TicketBin, dtype: int64 2\n"
     ]
    },
    {
     "data": {
      "text/plain": [
       "<BarContainer object of 2 artists>"
      ]
     },
     "execution_count": 14,
     "metadata": {},
     "output_type": "execute_result"
    },
    {
     "data": {
      "image/png": "[encoded data removed]",
      "text/plain": [
       "<Figure size 432x288 with 1 Axes>"
      ]
     },
     "metadata": {
      "needs_background": "dark"
     },
     "output_type": "display_data"
    },
    {
     "data": {
      "image/png": "[encoded data removed]",
      "text/plain": [
       "<Figure size 432x288 with 1 Axes>"
      ]
     },
     "metadata": {
      "needs_background": "dark"
     },
     "output_type": "display_data"
    }
   ],
   "source": [
    "# Ticket, extract prefix to find correlations and binning between ticket and no ticket\n",
    "combine = [train_df, test_df]\n",
    "\n",
    "temp1 = []\n",
    "temp2 = []\n",
    "temp1T = []\n",
    "temp2T = []\n",
    "for i in list(train_df.Ticket):\n",
    "    if not i.isdigit():\n",
    "        # Take prefix\n",
    "        temp1.append(\n",
    "            ''.join(i.split(' ')[:-1]).replace('/', '').replace(' ', ''))\n",
    "        temp2.append('Ticket')\n",
    "    else:\n",
    "        temp1.append('NoTicket')  # add NoTicket Dummy variable\n",
    "        temp2.append('NoTicket')\n",
    "\n",
    "for i in list(test_df.Ticket):\n",
    "    if not i.isdigit():\n",
    "        # Take prefix\n",
    "        temp1T.append(\n",
    "            ''.join(i.split(' ')[:-1]).replace('/', '').replace(' ', ''))\n",
    "        temp2T.append('Ticket')\n",
    "    else:\n",
    "        temp1T.append('NoTicket')  # add NoTicket Dummy variable\n",
    "        temp2T.append('NoTicket')\n",
    "\n",
    "train_df['Ticket'] = temp1\n",
    "test_df['Ticket'] = temp1T\n",
    "train_df['TicketBin'] = temp2\n",
    "test_df['TicketBin'] = temp2T\n",
    "print(train_df['Ticket'].value_counts(),\n",
    "      len(train_df['Ticket'].value_counts()))\n",
    "print(train_df['TicketBin'].value_counts(),\n",
    "      len(train_df['TicketBin'].value_counts()))\n",
    "plt.figure()\n",
    "plt.bar(train_df['Ticket'].value_counts().sort_index().keys(), train_df['Ticket'][train_df['Survived']\n",
    "                                                                                  == 1].value_counts().sort_index()/train_df['Ticket'].value_counts().sort_index())\n",
    "plt.xlabel('Prefix', fontsize=18)\n",
    "plt.ylabel('Probability of survival', fontsize=18)\n",
    "plt.xticks(rotation=90)\n",
    "plt.figure()\n",
    "# seems to be a bad idea\n",
    "plt.bar(train_df['TicketBin'].value_counts().sort_index().keys(), train_df['TicketBin']\n",
    "        [train_df['Survived'] == 1].value_counts().sort_index()/train_df['TicketBin'].value_counts().sort_index())"
   ]
  },
  {
   "cell_type": "code",
   "execution_count": 15,
   "metadata": {
    "scrolled": true
   },
   "outputs": [
    {
     "data": {
      "text/plain": [
       "Text(0, 0.5, 'Probability of survival')"
      ]
     },
     "execution_count": 15,
     "metadata": {},
     "output_type": "execute_result"
    },
    {
     "data": {
      "image/png": "[encoded data removed]",
      "text/plain": [
       "<Figure size 432x288 with 1 Axes>"
      ]
     },
     "metadata": {
      "needs_background": "dark"
     },
     "output_type": "display_data"
    },
    {
     "data": {
      "image/png": "[encoded data removed]",
      "text/plain": [
       "<Figure size 432x288 with 1 Axes>"
      ]
     },
     "metadata": {
      "needs_background": "dark"
     },
     "output_type": "display_data"
    },
    {
     "data": {
      "image/png": "[encoded data removed]",
      "text/plain": [
       "<Figure size 432x288 with 1 Axes>"
      ]
     },
     "metadata": {
      "needs_background": "dark"
     },
     "output_type": "display_data"
    }
   ],
   "source": [
    "plt.figure()\n",
    "# no bins\n",
    "plt.bar(train_df['Fare'].value_counts().sort_index().keys(),\n",
    "        train_df['Fare'].value_counts().sort_index())\n",
    "plt.xlabel('Fare', fontsize=18)\n",
    "plt.ylabel('Count', fontsize=18)\n",
    "# log\n",
    "plt.figure()\n",
    "train_df['FareLog'] = train_df['Fare'].map(lambda i: np.log(i) if i > 0 else 0)\n",
    "test_df['FareLog'] = test_df['Fare'].map(lambda i: np.log(i) if i > 0 else 0)\n",
    "plt.bar(train_df['FareLog'].value_counts().sort_index().keys(),\n",
    "        train_df['FareLog'].value_counts().sort_index())\n",
    "plt.xlabel('Log(Fare)', fontsize=18)\n",
    "plt.ylabel('Count', fontsize=18)\n",
    "\n",
    "# fare bins (4)\n",
    "train_df['FareBins'] = pd.qcut(train_df['Fare'], 4, labels=[1, 2, 3, 4])\n",
    "test_df['FareBins'] = pd.qcut(test_df['Fare'], 4, labels=[1, 2, 3, 4])\n",
    "plt.figure()\n",
    "plt.bar(train_df['FareBins'].value_counts().sort_index().keys(), train_df['FareBins']\n",
    "        [train_df['Survived'] == 1].value_counts().sort_index()/train_df['FareBins'].value_counts().sort_index())\n",
    "plt.xticks(train_df['FareBins'].value_counts().sort_index().keys())\n",
    "plt.xlabel('Fare bins', fontsize=18)\n",
    "plt.ylabel('Probability of survival', fontsize=18)"
   ]
  },
  {
   "cell_type": "code",
   "execution_count": 16,
   "metadata": {},
   "outputs": [
    {
     "data": {
      "text/plain": [
       "Text(0, 0.5, 'Probability of survival')"
      ]
     },
     "execution_count": 16,
     "metadata": {},
     "output_type": "execute_result"
    },
    {
     "data": {
      "image/png": "[encoded data removed]",
      "text/plain": [
       "<Figure size 432x288 with 1 Axes>"
      ]
     },
     "metadata": {
      "needs_background": "dark"
     },
     "output_type": "display_data"
    }
   ],
   "source": [
    "plt.bar(train_df['Embarked'].value_counts().sort_index().keys(), train_df['Embarked']\n",
    "        [train_df['Survived'] == 1].value_counts().sort_index()/train_df['Embarked'].value_counts().sort_index())\n",
    "plt.xticks(train_df['Embarked'].value_counts().sort_index().keys())\n",
    "plt.xlabel('Embarked', fontsize=18)\n",
    "plt.ylabel('Probability of survival', fontsize=18)"
   ]
  },
  {
   "cell_type": "code",
   "execution_count": 17,
   "metadata": {},
   "outputs": [],
   "source": [
    "# from previous chapters\n",
    "from sklearn.base import BaseEstimator, TransformerMixin\n",
    "\n",
    "# A class to select numerical or categorical columns\n",
    "# since Scikit-Learn doesn't handle DataFrames yet\n",
    "\n",
    "\n",
    "class DataFrameSelector(BaseEstimator, TransformerMixin):\n",
    "    def __init__(self, attribute_names):\n",
    "        self.attribute_names = attribute_names\n",
    "\n",
    "    def fit(self, X, y=None):\n",
    "        return self\n",
    "\n",
    "    def transform(self, X):\n",
    "        return X[self.attribute_names]"
   ]
  },
  {
   "cell_type": "code",
   "execution_count": 18,
   "metadata": {},
   "outputs": [
    {
     "name": "stdout",
     "output_type": "stream",
     "text": [
      "[[ 0.43279337 -0.47367361]\n",
      " [ 0.43279337 -0.47367361]\n",
      " [-0.4745452  -0.47367361]\n",
      " ...\n",
      " [ 0.43279337  2.00893337]\n",
      " [-0.4745452  -0.47367361]\n",
      " [-0.4745452  -0.47367361]] (891, 2)\n",
      "[[0. 0. 1. ... 0. 0. 0.]\n",
      " [1. 0. 0. ... 0. 0. 1.]\n",
      " [0. 0. 1. ... 1. 0. 0.]\n",
      " ...\n",
      " [0. 0. 1. ... 0. 1. 0.]\n",
      " [1. 0. 0. ... 0. 1. 0.]\n",
      " [0. 0. 1. ... 0. 0. 0.]] (891, 70)\n"
     ]
    }
   ],
   "source": [
    "# pipeline\n",
    "from sklearn.pipeline import FeatureUnion\n",
    "from sklearn.preprocessing import OneHotEncoder\n",
    "from sklearn.pipeline import Pipeline\n",
    "from sklearn.impute import SimpleImputer\n",
    "from sklearn.preprocessing import StandardScaler\n",
    "\n",
    "num_pipeline = Pipeline([\n",
    "    ('selector', DataFrameSelector(['SibSp', 'Parch'])),\n",
    "    ('imputer', SimpleImputer(strategy=\"median\")),\n",
    "    ('std_scaler', StandardScaler()),\n",
    "])\n",
    "print(num_pipeline.fit_transform(train_df),\n",
    "      num_pipeline.fit_transform(train_df).shape)\n",
    "\n",
    "cat_pipeline = Pipeline([\n",
    "    ('selector', DataFrameSelector(\n",
    "        ['Pclass', 'Sex', 'Embarked', 'Title', 'Fbin', 'Cabin', 'Ticket', 'AgeBins', 'FareBins'])),\n",
    "    ('imputer', SimpleImputer(strategy=\"most_frequent\")),\n",
    "    ('encoder', OneHotEncoder(sparse=False, handle_unknown='ignore')),\n",
    "])\n",
    "print(cat_pipeline.fit_transform(train_df),\n",
    "      cat_pipeline.fit_transform(train_df).shape)\n",
    "\n",
    "preprocess_pipeline = FeatureUnion(transformer_list=[\n",
    "    (\"num_pipeline\", num_pipeline),\n",
    "    (\"cat_pipeline\", cat_pipeline),\n",
    "])"
   ]
  },
  {
   "cell_type": "code",
   "execution_count": 19,
   "metadata": {},
   "outputs": [],
   "source": [
    "X_train = preprocess_pipeline.fit_transform(train_df)\n",
    "X_test = preprocess_pipeline.transform(test_df)\n",
    "y_train = train_df[\"Survived\"]  # check if they survived\n",
    "scores = pd.DataFrame(columns=['Score', 'Model'])"
   ]
  },
  {
   "cell_type": "code",
   "execution_count": 21,
   "metadata": {},
   "outputs": [
    {
     "name": "stdout",
     "output_type": "stream",
     "text": [
      "LogisticRegression(C=10, class_weight=None, dual=False, fit_intercept=True,\n",
      "          intercept_scaling=1, max_iter=300, multi_class='multinomial',\n",
      "          n_jobs=None, penalty='l2', random_state=42, solver='lbfgs',\n",
      "          tol=0.0001, verbose=0, warm_start=False)\n",
      "      Score    Model\n",
      "0  0.822643  softmax\n",
      "[[-0.07065536  0.03366455  0.23338392  0.13037928 -0.35194067  0.81963651\n",
      "  -0.80781398  0.09817324  0.07301369 -0.1593644   1.43429207 -0.48867692\n",
      "  -0.46380008 -0.46999254 -0.95756453  0.2562677   0.46140366  0.2517157\n",
      "   0.22421401 -0.21239148  1.05810209 -0.56989034 -0.4740601  -0.53882185\n",
      "   0.53860771 -0.21171785 -0.24001179  0.91068284  0.22137249 -0.5543467\n",
      "  -1.09686616  0.13568997 -0.98076578  0.65642914 -0.23318719  0.16070543\n",
      "   0.04369932  0.56689395 -0.15065455 -0.24001179 -0.48939946 -1.11940201\n",
      "  -0.38038691 -1.66518947 -0.24256719  2.31800425  0.58693692  0.39442421\n",
      "   0.37668446 -0.5543467   0.20333805 -0.26830274  0.72883937  0.06899179\n",
      "  -0.3467842   0.62720264  1.00205432  1.85246873 -0.63627894 -0.74454755\n",
      "  -0.5543467  -0.14741919 -0.07637857  0.20231312 -0.54436079  0.0629967\n",
      "   0.05584111  0.31141097 -0.18826591 -0.167154    0.06408837  0.30315407]]\n"
     ]
    }
   ],
   "source": [
    "# softmax\n",
    "from sklearn.linear_model import LogisticRegression\n",
    "from sklearn.model_selection import cross_val_score\n",
    "\n",
    "softmax_reg = LogisticRegression(\n",
    "    multi_class=\"multinomial\", solver=\"lbfgs\", C=10, random_state=42, max_iter=300)\n",
    "print(softmax_reg.fit(X_train, y_train))\n",
    "\n",
    "scores = pd.concat([scores,  pd.DataFrame([[cross_val_score(\n",
    "    softmax_reg, X_train, y_train, cv=10).mean(), 'softmax']], columns=['Score', 'Model'])])\n",
    "print(scores[scores['Model'] == 'softmax'])\n",
    "print(softmax_reg.coef_)"
   ]
  },
  {
   "cell_type": "code",
   "execution_count": 22,
   "metadata": {},
   "outputs": [
    {
     "name": "stdout",
     "output_type": "stream",
     "text": [
      "DecisionTreeRegressor(criterion='mse', max_depth=2, max_features=None,\n",
      "           max_leaf_nodes=None, min_impurity_decrease=0.0,\n",
      "           min_impurity_split=None, min_samples_leaf=1,\n",
      "           min_samples_split=2, min_weight_fraction_leaf=0.0,\n",
      "           presort=False, random_state=42, splitter='best')\n",
      "      Score     Model\n",
      "0  0.345718  tree_reg\n"
     ]
    }
   ],
   "source": [
    "# tree regression\n",
    "from sklearn.tree import DecisionTreeRegressor\n",
    "\n",
    "tree_reg = DecisionTreeRegressor(max_depth=2, random_state=42)\n",
    "print(tree_reg.fit(X_train, y_train))\n",
    "\n",
    "scores = pd.concat([scores,  pd.DataFrame([[cross_val_score(\n",
    "    tree_reg, X_train, y_train, cv=10).mean(), 'tree_reg']], columns=['Score', 'Model'])])\n",
    "print(scores[scores['Model'] == 'tree_reg'])"
   ]
  },
  {
   "cell_type": "code",
   "execution_count": 23,
   "metadata": {},
   "outputs": [
    {
     "name": "stdout",
     "output_type": "stream",
     "text": [
      "SVC(C=1.0, cache_size=200, class_weight=None, coef0=0.0,\n",
      "  decision_function_shape='ovr', degree=3, gamma='auto', kernel='rbf',\n",
      "  max_iter=-1, probability=False, random_state=None, shrinking=True,\n",
      "  tol=0.001, verbose=False)\n",
      "      Score Model\n",
      "0  0.830521   SVC\n"
     ]
    }
   ],
   "source": [
    "# SVC\n",
    "from sklearn.svm import SVC\n",
    "\n",
    "svm_clf = SVC(gamma=\"auto\")\n",
    "print(svm_clf.fit(X_train, y_train))\n",
    "\n",
    "scores = pd.concat([scores,  pd.DataFrame([[cross_val_score(\n",
    "    svm_clf, X_train, y_train, cv=10).mean(), 'SVC']], columns=['Score', 'Model'])])\n",
    "print(scores[scores['Model'] == 'SVC'])"
   ]
  },
  {
   "cell_type": "code",
   "execution_count": 24,
   "metadata": {},
   "outputs": [
    {
     "name": "stdout",
     "output_type": "stream",
     "text": [
      "RandomForestClassifier(bootstrap=True, class_weight=None, criterion='gini',\n",
      "            max_depth=None, max_features='auto', max_leaf_nodes=None,\n",
      "            min_impurity_decrease=0.0, min_impurity_split=None,\n",
      "            min_samples_leaf=1, min_samples_split=2,\n",
      "            min_weight_fraction_leaf=0.0, n_estimators=100, n_jobs=None,\n",
      "            oob_score=False, random_state=42, verbose=0, warm_start=False)\n",
      "      Score Model\n",
      "0  0.821569   RFC\n"
     ]
    }
   ],
   "source": [
    "# RFC\n",
    "from sklearn.ensemble import RandomForestClassifier\n",
    "\n",
    "forest_clf = RandomForestClassifier(n_estimators=100, random_state=42)\n",
    "print(forest_clf.fit(X_train, y_train))\n",
    "\n",
    "scores = pd.concat([scores,  pd.DataFrame([[cross_val_score(\n",
    "    forest_clf, X_train, y_train, cv=10).mean(), 'RFC']], columns=['Score', 'Model'])])\n",
    "print(scores[scores['Model'] == 'RFC'])"
   ]
  },
  {
   "cell_type": "code",
   "execution_count": 26,
   "metadata": {},
   "outputs": [
    {
     "name": "stdout",
     "output_type": "stream",
     "text": [
      "KNeighborsClassifier(algorithm='auto', leaf_size=30, metric='minkowski',\n",
      "           metric_params=None, n_jobs=None, n_neighbors=2, p=2,\n",
      "           weights='uniform')\n",
      "      Score Model\n",
      "0  0.791255   KNN\n"
     ]
    }
   ],
   "source": [
    "# KNN\n",
    "from sklearn.neighbors import KNeighborsClassifier\n",
    "\n",
    "knn = KNeighborsClassifier(2)\n",
    "print(knn.fit(X_train, y_train))\n",
    "\n",
    "scores = pd.concat([scores,  pd.DataFrame([[cross_val_score(\n",
    "    knn, X_train, y_train, cv=10).mean(), 'KNN']], columns=['Score', 'Model'])])\n",
    "print(scores[scores['Model'] == 'KNN'])"
   ]
  },
  {
   "cell_type": "code",
   "execution_count": 27,
   "metadata": {},
   "outputs": [
    {
     "name": "stdout",
     "output_type": "stream",
     "text": [
      "GaussianNB(priors=None, var_smoothing=1e-09)\n",
      "      Score    Model\n",
      "0  0.449999  gnb_clf\n"
     ]
    }
   ],
   "source": [
    "from sklearn.naive_bayes import GaussianNB\n",
    "\n",
    "gnb_clf = GaussianNB()\n",
    "print(gnb_clf.fit(X_train, y_train))\n",
    "\n",
    "scores = pd.concat([scores,  pd.DataFrame([[cross_val_score(\n",
    "    gnb_clf, X_train, y_train, cv=10).mean(), 'gnb_clf']], columns=['Score', 'Model'])])\n",
    "print(scores[scores['Model'] == 'gnb_clf'])"
   ]
  },
  {
   "cell_type": "code",
   "execution_count": 28,
   "metadata": {},
   "outputs": [
    {
     "data": {
      "text/html": [
       "<div>\n",
       "<style scoped>\n",
       "    .dataframe tbody tr th:only-of-type {\n",
       "        vertical-align: middle;\n",
       "    }\n",
       "\n",
       "    .dataframe tbody tr th {\n",
       "        vertical-align: top;\n",
       "    }\n",
       "\n",
       "    .dataframe thead th {\n",
       "        text-align: right;\n",
       "    }\n",
       "</style>\n",
       "<table border=\"1\" class=\"dataframe\">\n",
       "  <thead>\n",
       "    <tr style=\"text-align: right;\">\n",
       "      <th></th>\n",
       "      <th>Score</th>\n",
       "      <th>Model</th>\n",
       "    </tr>\n",
       "  </thead>\n",
       "  <tbody>\n",
       "    <tr>\n",
       "      <th>0</th>\n",
       "      <td>8.305207e-01</td>\n",
       "      <td>SVC</td>\n",
       "    </tr>\n",
       "    <tr>\n",
       "      <th>0</th>\n",
       "      <td>8.226430e-01</td>\n",
       "      <td>softmax</td>\n",
       "    </tr>\n",
       "    <tr>\n",
       "      <th>0</th>\n",
       "      <td>8.215688e-01</td>\n",
       "      <td>RFC</td>\n",
       "    </tr>\n",
       "    <tr>\n",
       "      <th>0</th>\n",
       "      <td>7.912550e-01</td>\n",
       "      <td>KNN</td>\n",
       "    </tr>\n",
       "    <tr>\n",
       "      <th>0</th>\n",
       "      <td>4.499989e-01</td>\n",
       "      <td>gnb_clf</td>\n",
       "    </tr>\n",
       "    <tr>\n",
       "      <th>0</th>\n",
       "      <td>3.457178e-01</td>\n",
       "      <td>tree_reg</td>\n",
       "    </tr>\n",
       "    <tr>\n",
       "      <th>0</th>\n",
       "      <td>-3.091218e+19</td>\n",
       "      <td>Linear_R</td>\n",
       "    </tr>\n",
       "  </tbody>\n",
       "</table>\n",
       "</div>"
      ],
      "text/plain": [
       "          Score     Model\n",
       "0  8.305207e-01       SVC\n",
       "0  8.226430e-01   softmax\n",
       "0  8.215688e-01       RFC\n",
       "0  7.912550e-01       KNN\n",
       "0  4.499989e-01   gnb_clf\n",
       "0  3.457178e-01  tree_reg\n",
       "0 -3.091218e+19  Linear_R"
      ]
     },
     "execution_count": 28,
     "metadata": {},
     "output_type": "execute_result"
    }
   ],
   "source": [
    "scores.sort_values(by=['Score'], ascending=False)"
   ]
  },
  {
   "cell_type": "code",
   "execution_count": 29,
   "metadata": {},
   "outputs": [
    {
     "name": "stdout",
     "output_type": "stream",
     "text": [
      "Fitting 10 folds for each of 160 candidates, totalling 1600 fits\n"
     ]
    },
    {
     "name": "stderr",
     "output_type": "stream",
     "text": [
      "[Parallel(n_jobs=3)]: Using backend LokyBackend with 3 concurrent workers.\n",
      "[Parallel(n_jobs=3)]: Done  65 tasks      | elapsed:    2.8s\n",
      "[Parallel(n_jobs=3)]: Done 385 tasks      | elapsed:    9.7s\n",
      "[Parallel(n_jobs=3)]: Done 1385 tasks      | elapsed:   30.3s\n"
     ]
    },
    {
     "name": "stdout",
     "output_type": "stream",
     "text": [
      "{'C': 1, 'decision_function_shape': 'ovo', 'gamma': 'auto', 'kernel': 'rbf', 'shrinking': True}\n",
      "0.8305274971941639\n",
      "SVC(C=1, cache_size=200, class_weight=None, coef0=0.0,\n",
      "  decision_function_shape='ovo', degree=3, gamma='auto', kernel='rbf',\n",
      "  max_iter=-1, probability=False, random_state=None, shrinking=True,\n",
      "  tol=0.001, verbose=False)\n"
     ]
    },
    {
     "name": "stderr",
     "output_type": "stream",
     "text": [
      "[Parallel(n_jobs=3)]: Done 1600 out of 1600 | elapsed:   34.7s finished\n"
     ]
    }
   ],
   "source": [
    "# gridsearch svm\n",
    "from sklearn.model_selection import GridSearchCV\n",
    "svm = SVC()\n",
    "parameters = {'kernel': ('linear', 'rbf'), 'C': (1, 0.75, 1.25, 1.1, 0.9), 'gamma': (\n",
    "    1, 2, 3, 'auto'), 'decision_function_shape': ('ovo', 'ovr'), 'shrinking': (True, False)}\n",
    "gs_svm = GridSearchCV(svm, parameters, cv=10, n_jobs=3,  verbose=1)\n",
    "gs_svm.fit(X_train, y_train)\n",
    "#print(cross_val_score(gs_svm, X_train, y_train, cv=10).mean())\n",
    "print(gs_svm.best_params_)\n",
    "print(gs_svm.best_score_)\n",
    "print(gs_svm.best_estimator_)"
   ]
  },
  {
   "cell_type": "code",
   "execution_count": 30,
   "metadata": {},
   "outputs": [
    {
     "name": "stderr",
     "output_type": "stream",
     "text": [
      "[Parallel(n_jobs=3)]: Using backend LokyBackend with 3 concurrent workers.\n"
     ]
    },
    {
     "name": "stdout",
     "output_type": "stream",
     "text": [
      "Fitting 10 folds for each of 913 candidates, totalling 9130 fits\n"
     ]
    },
    {
     "name": "stderr",
     "output_type": "stream",
     "text": [
      "[Parallel(n_jobs=3)]: Done 766 tasks      | elapsed:    1.8s\n",
      "[Parallel(n_jobs=3)]: Done 5926 tasks      | elapsed:   10.7s\n"
     ]
    },
    {
     "name": "stdout",
     "output_type": "stream",
     "text": [
      "{'C': 1.5}\n",
      "0.8316498316498316\n",
      "LogisticRegression(C=1.5, class_weight=None, dual=False, fit_intercept=True,\n",
      "          intercept_scaling=1, max_iter=100, multi_class='warn',\n",
      "          n_jobs=None, penalty='l2', random_state=None, solver='warn',\n",
      "          tol=0.0001, verbose=0, warm_start=False)\n"
     ]
    },
    {
     "name": "stderr",
     "output_type": "stream",
     "text": [
      "[Parallel(n_jobs=3)]: Done 9130 out of 9130 | elapsed:   16.0s finished\n",
      "C:\\Users\\Kalvyn\\Anaconda3\\envs\\ada_env\\lib\\site-packages\\sklearn\\linear_model\\logistic.py:433: FutureWarning: Default solver will be changed to 'lbfgs' in 0.22. Specify a solver to silence this warning.\n",
      "  FutureWarning)\n"
     ]
    }
   ],
   "source": [
    "params_logreg = [{'penalty': ['l1', 'l2']}, {'solver': ['newton-cg', 'lbfgs', 'liblinear',\n",
    "                                                        'sag', 'saga']}, {'max_iter': range(100, 1000)}, {'C': (1, 1.25, 1.5, 1.75, 2, 2.25)}]\n",
    "lreg = LogisticRegression()\n",
    "gs_lreg = GridSearchCV(lreg, params_logreg, cv=10, n_jobs=3, verbose=1)\n",
    "gs_lreg.fit(X_train, y_train)\n",
    "print(gs_lreg.best_params_)\n",
    "print(gs_lreg.best_score_)\n",
    "print(gs_lreg.best_estimator_)"
   ]
  },
  {
   "cell_type": "code",
   "execution_count": 31,
   "metadata": {},
   "outputs": [
    {
     "name": "stderr",
     "output_type": "stream",
     "text": [
      "[Parallel(n_jobs=3)]: Using backend LokyBackend with 3 concurrent workers.\n"
     ]
    },
    {
     "name": "stdout",
     "output_type": "stream",
     "text": [
      "Fitting 10 folds for each of 1134 candidates, totalling 11340 fits\n"
     ]
    },
    {
     "name": "stderr",
     "output_type": "stream",
     "text": [
      "[Parallel(n_jobs=3)]: Done 1398 tasks      | elapsed:    3.9s\n",
      "[Parallel(n_jobs=3)]: Done 7698 tasks      | elapsed:   22.7s\n"
     ]
    },
    {
     "name": "stdout",
     "output_type": "stream",
     "text": [
      "{'criterion': 'gini', 'max_depth': 10, 'max_features': 'sqrt', 'min_samples_leaf': 1, 'min_samples_split': 5, 'n_estimators': 9}\n",
      "0.8372615039281706\n",
      "RandomForestClassifier(bootstrap=True, class_weight=None, criterion='gini',\n",
      "            max_depth=10, max_features='sqrt', max_leaf_nodes=None,\n",
      "            min_impurity_decrease=0.0, min_impurity_split=None,\n",
      "            min_samples_leaf=1, min_samples_split=5,\n",
      "            min_weight_fraction_leaf=0.0, n_estimators=9, n_jobs=None,\n",
      "            oob_score=False, random_state=None, verbose=0,\n",
      "            warm_start=False)\n"
     ]
    },
    {
     "name": "stderr",
     "output_type": "stream",
     "text": [
      "[Parallel(n_jobs=3)]: Done 11340 out of 11340 | elapsed:   33.9s finished\n",
      "C:\\Users\\Kalvyn\\Anaconda3\\envs\\ada_env\\lib\\site-packages\\sklearn\\model_selection\\_search.py:841: DeprecationWarning: The default of the `iid` parameter will change from True to False in version 0.22 and will be removed in 0.24. This will change numeric results when test-set sizes are unequal.\n",
      "  DeprecationWarning)\n"
     ]
    }
   ],
   "source": [
    "# RF\n",
    "params_rfc = {'n_estimators': [4, 6, 9],\n",
    "              'max_features': ['log2', 'sqrt', 'auto'],\n",
    "              'criterion': ['entropy', 'gini'],\n",
    "              'max_depth': [2, 3, 5, 10, 12, 15, 20],\n",
    "              'min_samples_split': [2, 3, 5],\n",
    "              'min_samples_leaf': [1, 5, 8]\n",
    "              }\n",
    "rfc = RandomForestClassifier()\n",
    "gs_rfc = GridSearchCV(rfc, params_rfc, cv=10, n_jobs=3, verbose=1)\n",
    "gs_rfc.fit(X_train, y_train)\n",
    "print(gs_rfc.best_params_)\n",
    "print(gs_rfc.best_score_)\n",
    "print(gs_rfc.best_estimator_)"
   ]
  },
  {
   "cell_type": "code",
   "execution_count": 32,
   "metadata": {},
   "outputs": [
    {
     "name": "stderr",
     "output_type": "stream",
     "text": [
      "[Parallel(n_jobs=4)]: Using backend LokyBackend with 4 concurrent workers.\n"
     ]
    },
    {
     "name": "stdout",
     "output_type": "stream",
     "text": [
      "Fitting 10 folds for each of 960 candidates, totalling 9600 fits\n"
     ]
    },
    {
     "name": "stderr",
     "output_type": "stream",
     "text": [
      "[Parallel(n_jobs=4)]: Done  42 tasks      | elapsed:    3.2s\n",
      "[Parallel(n_jobs=4)]: Done 192 tasks      | elapsed:   14.5s\n",
      "[Parallel(n_jobs=4)]: Done 442 tasks      | elapsed:   34.9s\n",
      "[Parallel(n_jobs=4)]: Done 792 tasks      | elapsed:  1.0min\n",
      "[Parallel(n_jobs=4)]: Done 1242 tasks      | elapsed:  1.5min\n",
      "[Parallel(n_jobs=4)]: Done 1792 tasks      | elapsed:  2.0min\n",
      "[Parallel(n_jobs=4)]: Done 2461 tasks      | elapsed:  2.7min\n",
      "[Parallel(n_jobs=4)]: Done 3311 tasks      | elapsed:  4.1min\n",
      "[Parallel(n_jobs=4)]: Done 4359 tasks      | elapsed:  5.6min\n",
      "[Parallel(n_jobs=4)]: Done 5420 tasks      | elapsed:  7.0min\n",
      "[Parallel(n_jobs=4)]: Done 6470 tasks      | elapsed:  8.0min\n",
      "[Parallel(n_jobs=4)]: Done 9593 out of 9600 | elapsed:  9.9min remaining:    0.3s\n"
     ]
    },
    {
     "name": "stdout",
     "output_type": "stream",
     "text": [
      "{'algorithm': 'ball_tree', 'leaf_size': 2, 'n_neighbors': 20, 'p': 1, 'weights': 'uniform'}\n",
      "0.8316498316498316\n",
      "KNeighborsClassifier(algorithm='ball_tree', leaf_size=2, metric='minkowski',\n",
      "           metric_params=None, n_jobs=None, n_neighbors=20, p=1,\n",
      "           weights='uniform')\n"
     ]
    },
    {
     "name": "stderr",
     "output_type": "stream",
     "text": [
      "[Parallel(n_jobs=4)]: Done 9600 out of 9600 | elapsed:  9.9min finished\n"
     ]
    }
   ],
   "source": [
    "knn = KNeighborsClassifier()\n",
    "param_knn = {'n_neighbors': range(13, 23), 'weights': ['uniform', 'distance'], 'leaf_size':  range(\n",
    "    1, 5), 'p': [1, 2, 3], 'algorithm': ['auto', 'ball_tree', 'kd_tree', 'brute']}\n",
    "knn_gs = GridSearchCV(knn, param_knn, cv=10, n_jobs=4, verbose=1)\n",
    "knn_gs.fit(X_train, y_train)\n",
    "print(knn_gs.best_params_)\n",
    "print(knn_gs.best_score_)\n",
    "print(knn_gs.best_estimator_)"
   ]
  },
  {
   "cell_type": "code",
   "execution_count": 35,
   "metadata": {},
   "outputs": [],
   "source": [
    "pred = knn_gs.predict(X_test)\n",
    "submission = pd.DataFrame({\n",
    "    \"PassengerId\": test_df[\"PassengerId\"],\n",
    "    \"Survived\": pred\n",
    "})\n",
    "submission.to_csv('submission.csv', index=False)"
   ]
  }
 ],
 "metadata": {
  "kernelspec": {
   "display_name": "Python 3",
   "language": "python",
   "name": "python3"
  },
  "language_info": {
   "codemirror_mode": {
    "name": "ipython",
    "version": 3
   },
   "file_extension": ".py",
   "mimetype": "text/x-python",
   "name": "python",
   "nbconvert_exporter": "python",
   "pygments_lexer": "ipython3",
   "version": "3.6.7"
  },
  "varInspector": {
   "cols": {
    "lenName": 16,
    "lenType": 16,
    "lenVar": 40
   },
   "kernels_config": {
    "python": {
     "delete_cmd_postfix": "",
     "delete_cmd_prefix": "del ",
     "library": "var_list.py",
     "varRefreshCmd": "print(var_dic_list())"
    },
    "r": {
     "delete_cmd_postfix": ") ",
     "delete_cmd_prefix": "rm(",
     "library": "var_list.r",
     "varRefreshCmd": "cat(var_dic_list()) "
    }
   },
   "types_to_exclude": [
    "module",
    "function",
    "builtin_function_or_method",
    "instance",
    "_Feature"
   ],
   "window_display": false
  }
 },
 "nbformat": 4,
 "nbformat_minor": 2
}
